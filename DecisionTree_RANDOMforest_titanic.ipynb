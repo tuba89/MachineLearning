{
  "nbformat": 4,
  "nbformat_minor": 0,
  "metadata": {
    "colab": {
      "name": "DecisionTree.RANDOMforest_titanic.ipynb",
      "provenance": [],
      "collapsed_sections": [],
      "include_colab_link": true
    },
    "kernelspec": {
      "name": "python3",
      "display_name": "Python 3"
    },
    "language_info": {
      "name": "python"
    }
  },
  "cells": [
    {
      "cell_type": "markdown",
      "metadata": {
        "id": "view-in-github",
        "colab_type": "text"
      },
      "source": [
        "<a href=\"https://colab.research.google.com/github/tuba89/MachineLearning/blob/main/DecisionTree_RANDOMforest_titanic.ipynb\" target=\"_parent\"><img src=\"https://colab.research.google.com/assets/colab-badge.svg\" alt=\"Open In Colab\"/></a>"
      ]
    },
    {
      "cell_type": "code",
      "metadata": {
        "id": "xPyxWlsxn3dk"
      },
      "source": [
        "# Import the Libraries\n",
        "import pandas as pd\n",
        "import numpy as np\n",
        "import matplotlib.pyplot as plt\n",
        "import seaborn as sns"
      ],
      "execution_count": null,
      "outputs": []
    },
    {
      "cell_type": "code",
      "metadata": {
        "id": "T6HgItVCn57A"
      },
      "source": [
        "path = '/content/drive/MyDrive/titanic-passengers for trees.csv'\n",
        "data = pd.read_csv(path, sep=\";\")"
      ],
      "execution_count": null,
      "outputs": []
    },
    {
      "cell_type": "markdown",
      "metadata": {
        "id": "9-4eesdB-n43"
      },
      "source": [
        "# **Preprocess & clean our data**"
      ]
    },
    {
      "cell_type": "code",
      "metadata": {
        "colab": {
          "base_uri": "https://localhost:8080/",
          "height": 202
        },
        "id": "YPvXsihCCvWX",
        "outputId": "35e234b3-863f-473d-8675-7ee0f450310b"
      },
      "source": [
        "data.head()"
      ],
      "execution_count": null,
      "outputs": [
        {
          "output_type": "execute_result",
          "data": {
            "text/html": [
              "<div>\n",
              "<style scoped>\n",
              "    .dataframe tbody tr th:only-of-type {\n",
              "        vertical-align: middle;\n",
              "    }\n",
              "\n",
              "    .dataframe tbody tr th {\n",
              "        vertical-align: top;\n",
              "    }\n",
              "\n",
              "    .dataframe thead th {\n",
              "        text-align: right;\n",
              "    }\n",
              "</style>\n",
              "<table border=\"1\" class=\"dataframe\">\n",
              "  <thead>\n",
              "    <tr style=\"text-align: right;\">\n",
              "      <th></th>\n",
              "      <th>PassengerId</th>\n",
              "      <th>Survived</th>\n",
              "      <th>Pclass</th>\n",
              "      <th>Name</th>\n",
              "      <th>Sex</th>\n",
              "      <th>Age</th>\n",
              "      <th>SibSp</th>\n",
              "      <th>Parch</th>\n",
              "      <th>Ticket</th>\n",
              "      <th>Fare</th>\n",
              "      <th>Cabin</th>\n",
              "      <th>Embarked</th>\n",
              "    </tr>\n",
              "  </thead>\n",
              "  <tbody>\n",
              "    <tr>\n",
              "      <th>0</th>\n",
              "      <td>343</td>\n",
              "      <td>No</td>\n",
              "      <td>2</td>\n",
              "      <td>Collander, Mr. Erik Gustaf</td>\n",
              "      <td>male</td>\n",
              "      <td>28.0</td>\n",
              "      <td>0</td>\n",
              "      <td>0</td>\n",
              "      <td>248740</td>\n",
              "      <td>13.0000</td>\n",
              "      <td>NaN</td>\n",
              "      <td>S</td>\n",
              "    </tr>\n",
              "    <tr>\n",
              "      <th>1</th>\n",
              "      <td>76</td>\n",
              "      <td>No</td>\n",
              "      <td>3</td>\n",
              "      <td>Moen, Mr. Sigurd Hansen</td>\n",
              "      <td>male</td>\n",
              "      <td>25.0</td>\n",
              "      <td>0</td>\n",
              "      <td>0</td>\n",
              "      <td>348123</td>\n",
              "      <td>7.6500</td>\n",
              "      <td>F G73</td>\n",
              "      <td>S</td>\n",
              "    </tr>\n",
              "    <tr>\n",
              "      <th>2</th>\n",
              "      <td>641</td>\n",
              "      <td>No</td>\n",
              "      <td>3</td>\n",
              "      <td>Jensen, Mr. Hans Peder</td>\n",
              "      <td>male</td>\n",
              "      <td>20.0</td>\n",
              "      <td>0</td>\n",
              "      <td>0</td>\n",
              "      <td>350050</td>\n",
              "      <td>7.8542</td>\n",
              "      <td>NaN</td>\n",
              "      <td>S</td>\n",
              "    </tr>\n",
              "    <tr>\n",
              "      <th>3</th>\n",
              "      <td>568</td>\n",
              "      <td>No</td>\n",
              "      <td>3</td>\n",
              "      <td>Palsson, Mrs. Nils (Alma Cornelia Berglund)</td>\n",
              "      <td>female</td>\n",
              "      <td>29.0</td>\n",
              "      <td>0</td>\n",
              "      <td>4</td>\n",
              "      <td>349909</td>\n",
              "      <td>21.0750</td>\n",
              "      <td>NaN</td>\n",
              "      <td>S</td>\n",
              "    </tr>\n",
              "    <tr>\n",
              "      <th>4</th>\n",
              "      <td>672</td>\n",
              "      <td>No</td>\n",
              "      <td>1</td>\n",
              "      <td>Davidson, Mr. Thornton</td>\n",
              "      <td>male</td>\n",
              "      <td>31.0</td>\n",
              "      <td>1</td>\n",
              "      <td>0</td>\n",
              "      <td>F.C. 12750</td>\n",
              "      <td>52.0000</td>\n",
              "      <td>B71</td>\n",
              "      <td>S</td>\n",
              "    </tr>\n",
              "  </tbody>\n",
              "</table>\n",
              "</div>"
            ],
            "text/plain": [
              "   PassengerId Survived  Pclass  ...     Fare  Cabin  Embarked\n",
              "0          343       No       2  ...  13.0000    NaN         S\n",
              "1           76       No       3  ...   7.6500  F G73         S\n",
              "2          641       No       3  ...   7.8542    NaN         S\n",
              "3          568       No       3  ...  21.0750    NaN         S\n",
              "4          672       No       1  ...  52.0000    B71         S\n",
              "\n",
              "[5 rows x 12 columns]"
            ]
          },
          "metadata": {
            "tags": []
          },
          "execution_count": 297
        }
      ]
    },
    {
      "cell_type": "code",
      "metadata": {
        "colab": {
          "base_uri": "https://localhost:8080/"
        },
        "id": "VNXYRXvWCsOr",
        "outputId": "5b5d0221-a2b8-42fa-8227-19cdb810b9c8"
      },
      "source": [
        "data.info()"
      ],
      "execution_count": null,
      "outputs": [
        {
          "output_type": "stream",
          "text": [
            "<class 'pandas.core.frame.DataFrame'>\n",
            "RangeIndex: 891 entries, 0 to 890\n",
            "Data columns (total 12 columns):\n",
            " #   Column       Non-Null Count  Dtype  \n",
            "---  ------       --------------  -----  \n",
            " 0   PassengerId  891 non-null    int64  \n",
            " 1   Survived     891 non-null    object \n",
            " 2   Pclass       891 non-null    int64  \n",
            " 3   Name         891 non-null    object \n",
            " 4   Sex          891 non-null    object \n",
            " 5   Age          714 non-null    float64\n",
            " 6   SibSp        891 non-null    int64  \n",
            " 7   Parch        891 non-null    int64  \n",
            " 8   Ticket       891 non-null    object \n",
            " 9   Fare         891 non-null    float64\n",
            " 10  Cabin        204 non-null    object \n",
            " 11  Embarked     889 non-null    object \n",
            "dtypes: float64(2), int64(4), object(6)\n",
            "memory usage: 83.7+ KB\n"
          ],
          "name": "stdout"
        }
      ]
    },
    {
      "cell_type": "code",
      "metadata": {
        "id": "qca_S-kDBg3E"
      },
      "source": [
        "# replacing categorical values of survived by numbers\n",
        "data['Survived'] = data['Survived'].replace({'No' : 0, 'Yes' : 1})"
      ],
      "execution_count": null,
      "outputs": []
    },
    {
      "cell_type": "code",
      "metadata": {
        "id": "eHNo3lw3qMex"
      },
      "source": [
        "# Feature that tells whether a passenger had a cabin on the Titanic\n",
        "data['Cabin_n'] = data[\"Cabin\"].apply(lambda x: 0 if type(x) == float else 1)"
      ],
      "execution_count": null,
      "outputs": []
    },
    {
      "cell_type": "code",
      "metadata": {
        "id": "uwSuDm0hrI8o"
      },
      "source": [
        "# Create new feature FamilySize as a combination of SibSp//Parch\n",
        "data['FamilySize'] = data['SibSp'] + data['Parch'] + 1"
      ],
      "execution_count": null,
      "outputs": []
    },
    {
      "cell_type": "code",
      "metadata": {
        "id": "mg_Tiw0KqXTf"
      },
      "source": [
        "# Create new feature IsAlone from FamilySize\n",
        "data['IsAlone'] = 0\n",
        "data.loc[data['FamilySize'] == 1, 'IsAlone'] = 1"
      ],
      "execution_count": null,
      "outputs": []
    },
    {
      "cell_type": "code",
      "metadata": {
        "id": "zqRVxZnKrq0S"
      },
      "source": [
        "# extract the title from the column Names\n",
        "data['Title'] = data['Name'].apply(lambda full_name: full_name.split(', ')[1].split('.')[0])"
      ],
      "execution_count": null,
      "outputs": []
    },
    {
      "cell_type": "code",
      "metadata": {
        "colab": {
          "base_uri": "https://localhost:8080/",
          "height": 306
        },
        "id": "IuGRbBRvEP5m",
        "outputId": "74189ff6-60df-4653-fe3d-01e75b5e2bfa"
      },
      "source": [
        "data.head()"
      ],
      "execution_count": null,
      "outputs": [
        {
          "output_type": "execute_result",
          "data": {
            "text/html": [
              "<div>\n",
              "<style scoped>\n",
              "    .dataframe tbody tr th:only-of-type {\n",
              "        vertical-align: middle;\n",
              "    }\n",
              "\n",
              "    .dataframe tbody tr th {\n",
              "        vertical-align: top;\n",
              "    }\n",
              "\n",
              "    .dataframe thead th {\n",
              "        text-align: right;\n",
              "    }\n",
              "</style>\n",
              "<table border=\"1\" class=\"dataframe\">\n",
              "  <thead>\n",
              "    <tr style=\"text-align: right;\">\n",
              "      <th></th>\n",
              "      <th>PassengerId</th>\n",
              "      <th>Survived</th>\n",
              "      <th>Pclass</th>\n",
              "      <th>Name</th>\n",
              "      <th>Sex</th>\n",
              "      <th>Age</th>\n",
              "      <th>SibSp</th>\n",
              "      <th>Parch</th>\n",
              "      <th>Ticket</th>\n",
              "      <th>Fare</th>\n",
              "      <th>Cabin</th>\n",
              "      <th>Embarked</th>\n",
              "      <th>Cabin_n</th>\n",
              "      <th>FamilySize</th>\n",
              "      <th>IsAlone</th>\n",
              "      <th>Title</th>\n",
              "    </tr>\n",
              "  </thead>\n",
              "  <tbody>\n",
              "    <tr>\n",
              "      <th>0</th>\n",
              "      <td>343</td>\n",
              "      <td>0</td>\n",
              "      <td>2</td>\n",
              "      <td>Collander, Mr. Erik Gustaf</td>\n",
              "      <td>male</td>\n",
              "      <td>28.0</td>\n",
              "      <td>0</td>\n",
              "      <td>0</td>\n",
              "      <td>248740</td>\n",
              "      <td>13.0000</td>\n",
              "      <td>NaN</td>\n",
              "      <td>S</td>\n",
              "      <td>0</td>\n",
              "      <td>1</td>\n",
              "      <td>1</td>\n",
              "      <td>Mr</td>\n",
              "    </tr>\n",
              "    <tr>\n",
              "      <th>1</th>\n",
              "      <td>76</td>\n",
              "      <td>0</td>\n",
              "      <td>3</td>\n",
              "      <td>Moen, Mr. Sigurd Hansen</td>\n",
              "      <td>male</td>\n",
              "      <td>25.0</td>\n",
              "      <td>0</td>\n",
              "      <td>0</td>\n",
              "      <td>348123</td>\n",
              "      <td>7.6500</td>\n",
              "      <td>F G73</td>\n",
              "      <td>S</td>\n",
              "      <td>1</td>\n",
              "      <td>1</td>\n",
              "      <td>1</td>\n",
              "      <td>Mr</td>\n",
              "    </tr>\n",
              "    <tr>\n",
              "      <th>2</th>\n",
              "      <td>641</td>\n",
              "      <td>0</td>\n",
              "      <td>3</td>\n",
              "      <td>Jensen, Mr. Hans Peder</td>\n",
              "      <td>male</td>\n",
              "      <td>20.0</td>\n",
              "      <td>0</td>\n",
              "      <td>0</td>\n",
              "      <td>350050</td>\n",
              "      <td>7.8542</td>\n",
              "      <td>NaN</td>\n",
              "      <td>S</td>\n",
              "      <td>0</td>\n",
              "      <td>1</td>\n",
              "      <td>1</td>\n",
              "      <td>Mr</td>\n",
              "    </tr>\n",
              "    <tr>\n",
              "      <th>3</th>\n",
              "      <td>568</td>\n",
              "      <td>0</td>\n",
              "      <td>3</td>\n",
              "      <td>Palsson, Mrs. Nils (Alma Cornelia Berglund)</td>\n",
              "      <td>female</td>\n",
              "      <td>29.0</td>\n",
              "      <td>0</td>\n",
              "      <td>4</td>\n",
              "      <td>349909</td>\n",
              "      <td>21.0750</td>\n",
              "      <td>NaN</td>\n",
              "      <td>S</td>\n",
              "      <td>0</td>\n",
              "      <td>5</td>\n",
              "      <td>0</td>\n",
              "      <td>Mrs</td>\n",
              "    </tr>\n",
              "    <tr>\n",
              "      <th>4</th>\n",
              "      <td>672</td>\n",
              "      <td>0</td>\n",
              "      <td>1</td>\n",
              "      <td>Davidson, Mr. Thornton</td>\n",
              "      <td>male</td>\n",
              "      <td>31.0</td>\n",
              "      <td>1</td>\n",
              "      <td>0</td>\n",
              "      <td>F.C. 12750</td>\n",
              "      <td>52.0000</td>\n",
              "      <td>B71</td>\n",
              "      <td>S</td>\n",
              "      <td>1</td>\n",
              "      <td>2</td>\n",
              "      <td>0</td>\n",
              "      <td>Mr</td>\n",
              "    </tr>\n",
              "  </tbody>\n",
              "</table>\n",
              "</div>"
            ],
            "text/plain": [
              "   PassengerId  Survived  Pclass  ... FamilySize IsAlone  Title\n",
              "0          343         0       2  ...          1       1     Mr\n",
              "1           76         0       3  ...          1       1     Mr\n",
              "2          641         0       3  ...          1       1     Mr\n",
              "3          568         0       3  ...          5       0    Mrs\n",
              "4          672         0       1  ...          2       0     Mr\n",
              "\n",
              "[5 rows x 16 columns]"
            ]
          },
          "metadata": {
            "tags": []
          },
          "execution_count": 281
        }
      ]
    },
    {
      "cell_type": "code",
      "metadata": {
        "id": "NguQ_PI2sKPH"
      },
      "source": [
        "# replace the title\n",
        "data['Title'] = data['Title'].replace(['Mr', 'Rev', 'Capt', 'Don','Jonkheer'], 'Brave')\n",
        "data['Title'] = data['Title'].replace(['Col','Major','Master','Dr'], 'Second Brave')\n",
        "data['Title'] = data['Title'].replace(['Sir','the Countess'], 'Royalty')\n",
        "data['Title'] = data['Title'].replace(['Ms', 'Mlle', 'Miss', 'Mme', 'Mrs','Lady'], 'Women/Ladies')"
      ],
      "execution_count": null,
      "outputs": []
    },
    {
      "cell_type": "code",
      "metadata": {
        "colab": {
          "base_uri": "https://localhost:8080/"
        },
        "id": "S1qiG96KOmV9",
        "outputId": "e09d0fae-2481-44a9-9b37-4aa6f83cbbad"
      },
      "source": [
        "data['Title'].value_counts()"
      ],
      "execution_count": null,
      "outputs": [
        {
          "output_type": "execute_result",
          "data": {
            "text/plain": [
              "Brave           526\n",
              "Women/Ladies    312\n",
              "Second Brave     51\n",
              "Royalty           2\n",
              "Name: Title, dtype: int64"
            ]
          },
          "metadata": {
            "tags": []
          },
          "execution_count": 231
        }
      ]
    },
    {
      "cell_type": "code",
      "metadata": {
        "id": "oSUaiPHotUrB"
      },
      "source": [
        "# Remove all \"NULLS\" in \"Embarked\" feature\n",
        "data['Embarked'] = data['Embarked'].fillna('S')"
      ],
      "execution_count": null,
      "outputs": []
    },
    {
      "cell_type": "code",
      "metadata": {
        "id": "Ekw74Z7stdHg"
      },
      "source": [
        "# Remove all \"NULLS\" in \"Fare\" featre\n",
        "data['Fare'] = data['Fare'].fillna(data['Fare'].median())"
      ],
      "execution_count": null,
      "outputs": []
    },
    {
      "cell_type": "code",
      "metadata": {
        "id": "jNbxFgA9Ze0x"
      },
      "source": [
        "# put each person into one of four age groups: \n",
        "#Infant under <2, Child =2-12 , Adult =13-50, or Old >=50.\n",
        "bins = [0, 1, 13, 50, 85]\n",
        "age_groups = ['Baby','Child','Adult','Old']\n",
        "data['Age'] = pd.cut(data['Age'], bins, labels = age_groups)"
      ],
      "execution_count": null,
      "outputs": []
    },
    {
      "cell_type": "code",
      "metadata": {
        "id": "zetqFUfaaPwj"
      },
      "source": [
        "def find_age_group(value):\n",
        "    \n",
        "    \"\"\" For unknown ages (NULLS value), find the best 'Age' group by looking at the form each name.\n",
        "    For 'Miss' and 'Master', = 'Child' age group, and for 'Mrs', 'Mr.', and 'Dr.', \n",
        "    ==> 'Adult' age group \"\"\"\n",
        "        \n",
        "    if 'Miss.' in value['Name']:\n",
        "        if pd.isnull(value['Age']):\n",
        "            value['Age'] = 'Child'\n",
        "        \n",
        "    if 'Master.' in value['Name']:\n",
        "        if pd.isnull(value['Age']):\n",
        "           value['Age'] = 'Child'\n",
        "            \n",
        "    if 'Mrs.' in value['Name']:\n",
        "        if pd.isnull(value['Age']):\n",
        "            value['Age'] = 'Adult'\n",
        "            \n",
        "    if 'Mr.' in value['Name']:\n",
        "        if pd.isnull(value['Age']):\n",
        "            value['Age'] = 'Adult'\n",
        "        \n",
        "    if 'Dr.' in value['Name']:\n",
        "        if pd.isnull(value['Age']):\n",
        "            value['Age'] = 'Adult' \n",
        "        \n",
        "    return value\n",
        "data = data.apply(find_age_group, axis=1)"
      ],
      "execution_count": null,
      "outputs": []
    },
    {
      "cell_type": "code",
      "metadata": {
        "colab": {
          "base_uri": "https://localhost:8080/"
        },
        "id": "00DzRLtYe6uZ",
        "outputId": "d1f72aa4-06e0-45e2-97c7-8b0874b3b164"
      },
      "source": [
        "data.info()"
      ],
      "execution_count": null,
      "outputs": [
        {
          "output_type": "stream",
          "text": [
            "<class 'pandas.core.frame.DataFrame'>\n",
            "RangeIndex: 891 entries, 0 to 890\n",
            "Data columns (total 16 columns):\n",
            " #   Column       Non-Null Count  Dtype \n",
            "---  ------       --------------  ----- \n",
            " 0   PassengerId  891 non-null    int64 \n",
            " 1   Survived     891 non-null    int64 \n",
            " 2   Pclass       891 non-null    int64 \n",
            " 3   Name         891 non-null    object\n",
            " 4   Sex          891 non-null    int64 \n",
            " 5   Age          891 non-null    object\n",
            " 6   SibSp        891 non-null    int64 \n",
            " 7   Parch        891 non-null    int64 \n",
            " 8   Ticket       891 non-null    object\n",
            " 9   Fare         891 non-null    int64 \n",
            " 10  Cabin        204 non-null    object\n",
            " 11  Embarked     891 non-null    int64 \n",
            " 12  Cabin_n      891 non-null    int64 \n",
            " 13  FamilySize   891 non-null    int64 \n",
            " 14  IsAlone      891 non-null    int64 \n",
            " 15  Title        891 non-null    int64 \n",
            "dtypes: int64(12), object(4)\n",
            "memory usage: 111.5+ KB\n"
          ],
          "name": "stdout"
        }
      ]
    },
    {
      "cell_type": "code",
      "metadata": {
        "id": "gnw2K1mRc_-G"
      },
      "source": [
        "# mapping the Age\n",
        "#age_groups = ['Baby','Child','Adult','Old']\n",
        "data['Age'] = data['Age'].map( {'Baby': 0, 'Child': 1, 'Adult': 2, 'Old': 3} )"
      ],
      "execution_count": null,
      "outputs": []
    },
    {
      "cell_type": "code",
      "metadata": {
        "colab": {
          "base_uri": "https://localhost:8080/"
        },
        "id": "yKKBUW96fGsx",
        "outputId": "badef4e3-e3e7-4101-a79b-3fdd939e4e7d"
      },
      "source": [
        "data.info()"
      ],
      "execution_count": null,
      "outputs": [
        {
          "output_type": "stream",
          "text": [
            "<class 'pandas.core.frame.DataFrame'>\n",
            "RangeIndex: 891 entries, 0 to 890\n",
            "Data columns (total 16 columns):\n",
            " #   Column       Non-Null Count  Dtype \n",
            "---  ------       --------------  ----- \n",
            " 0   PassengerId  891 non-null    int64 \n",
            " 1   Survived     891 non-null    int64 \n",
            " 2   Pclass       891 non-null    int64 \n",
            " 3   Name         891 non-null    object\n",
            " 4   Sex          891 non-null    int64 \n",
            " 5   Age          891 non-null    int64 \n",
            " 6   SibSp        891 non-null    int64 \n",
            " 7   Parch        891 non-null    int64 \n",
            " 8   Ticket       891 non-null    object\n",
            " 9   Fare         891 non-null    int64 \n",
            " 10  Cabin        204 non-null    object\n",
            " 11  Embarked     891 non-null    int64 \n",
            " 12  Cabin_n      891 non-null    int64 \n",
            " 13  FamilySize   891 non-null    int64 \n",
            " 14  IsAlone      891 non-null    int64 \n",
            " 15  Title        891 non-null    int64 \n",
            "dtypes: int64(13), object(3)\n",
            "memory usage: 111.5+ KB\n"
          ],
          "name": "stdout"
        }
      ]
    },
    {
      "cell_type": "code",
      "metadata": {
        "id": "vt_yIIxfPXid"
      },
      "source": [
        "# Mapping the gender\n",
        "data['Sex'] = data['Sex'].map( {'female': 0, 'male': 1} ).astype(int)"
      ],
      "execution_count": null,
      "outputs": []
    },
    {
      "cell_type": "code",
      "metadata": {
        "id": "gkXBn9gHPeaU"
      },
      "source": [
        "# # Mapping titles\n",
        "# Brave           526\n",
        "# Women/Ladies    312\n",
        "# Second Brave     51\n",
        "# Royalty           2\n",
        "title_mapping = {\"Brave\": 1, \"Second Brave\": 2, \"Women/Ladies\": 3, \"Royalty\": 3}\n",
        "# i put royality also 3 because there is just two of theme not much data to analysis\n",
        "data['Title'] = data['Title'].map(title_mapping)\n",
        "data['Title'] = data['Title'].fillna(0)"
      ],
      "execution_count": null,
      "outputs": []
    },
    {
      "cell_type": "code",
      "metadata": {
        "id": "BHb7MY0TP82Q"
      },
      "source": [
        "# Mapping Embarked\n",
        "data['Embarked'] = data['Embarked'].map( {'S': 0, 'C': 1, 'Q': 2} ).astype(int)"
      ],
      "execution_count": null,
      "outputs": []
    },
    {
      "cell_type": "code",
      "metadata": {
        "id": "xUcAAomVqAzX"
      },
      "source": [
        "# Mapping Fare\n",
        "data.loc[ data['Fare'] <= 7.91, 'Fare'] = 0 # almost free\n",
        "data.loc[(data['Fare'] > 7.91) & (data['Fare'] <= 14.454), 'Fare'] = 1 # cheap\n",
        "data.loc[(data['Fare'] > 14.454) & (data['Fare'] <= 31), 'Fare']  = 2 # medium\n",
        "data.loc[ data['Fare'] > 31, 'Fare'] = 3 # EXPENSIVE\n",
        "data['Fare'] = data['Fare'].astype(int)\n"
      ],
      "execution_count": null,
      "outputs": []
    },
    {
      "cell_type": "code",
      "metadata": {
        "colab": {
          "base_uri": "https://localhost:8080/",
          "height": 254
        },
        "id": "i785QXT7DsNe",
        "outputId": "89408543-69cb-4d06-f246-4ef2859f5bea"
      },
      "source": [
        "data.head()"
      ],
      "execution_count": null,
      "outputs": [
        {
          "output_type": "execute_result",
          "data": {
            "text/html": [
              "<div>\n",
              "<style scoped>\n",
              "    .dataframe tbody tr th:only-of-type {\n",
              "        vertical-align: middle;\n",
              "    }\n",
              "\n",
              "    .dataframe tbody tr th {\n",
              "        vertical-align: top;\n",
              "    }\n",
              "\n",
              "    .dataframe thead th {\n",
              "        text-align: right;\n",
              "    }\n",
              "</style>\n",
              "<table border=\"1\" class=\"dataframe\">\n",
              "  <thead>\n",
              "    <tr style=\"text-align: right;\">\n",
              "      <th></th>\n",
              "      <th>PassengerId</th>\n",
              "      <th>Survived</th>\n",
              "      <th>Pclass</th>\n",
              "      <th>Name</th>\n",
              "      <th>Sex</th>\n",
              "      <th>Age</th>\n",
              "      <th>SibSp</th>\n",
              "      <th>Parch</th>\n",
              "      <th>Ticket</th>\n",
              "      <th>Fare</th>\n",
              "      <th>Cabin</th>\n",
              "      <th>Embarked</th>\n",
              "      <th>Cabin_n</th>\n",
              "      <th>FamilySize</th>\n",
              "      <th>IsAlone</th>\n",
              "      <th>Title</th>\n",
              "    </tr>\n",
              "  </thead>\n",
              "  <tbody>\n",
              "    <tr>\n",
              "      <th>0</th>\n",
              "      <td>343</td>\n",
              "      <td>0</td>\n",
              "      <td>2</td>\n",
              "      <td>Collander, Mr. Erik Gustaf</td>\n",
              "      <td>1</td>\n",
              "      <td>2</td>\n",
              "      <td>0</td>\n",
              "      <td>0</td>\n",
              "      <td>248740</td>\n",
              "      <td>1</td>\n",
              "      <td>NaN</td>\n",
              "      <td>0</td>\n",
              "      <td>0</td>\n",
              "      <td>1</td>\n",
              "      <td>1</td>\n",
              "      <td>0</td>\n",
              "    </tr>\n",
              "    <tr>\n",
              "      <th>1</th>\n",
              "      <td>76</td>\n",
              "      <td>0</td>\n",
              "      <td>3</td>\n",
              "      <td>Moen, Mr. Sigurd Hansen</td>\n",
              "      <td>1</td>\n",
              "      <td>2</td>\n",
              "      <td>0</td>\n",
              "      <td>0</td>\n",
              "      <td>348123</td>\n",
              "      <td>0</td>\n",
              "      <td>F G73</td>\n",
              "      <td>0</td>\n",
              "      <td>1</td>\n",
              "      <td>1</td>\n",
              "      <td>1</td>\n",
              "      <td>0</td>\n",
              "    </tr>\n",
              "    <tr>\n",
              "      <th>2</th>\n",
              "      <td>641</td>\n",
              "      <td>0</td>\n",
              "      <td>3</td>\n",
              "      <td>Jensen, Mr. Hans Peder</td>\n",
              "      <td>1</td>\n",
              "      <td>2</td>\n",
              "      <td>0</td>\n",
              "      <td>0</td>\n",
              "      <td>350050</td>\n",
              "      <td>0</td>\n",
              "      <td>NaN</td>\n",
              "      <td>0</td>\n",
              "      <td>0</td>\n",
              "      <td>1</td>\n",
              "      <td>1</td>\n",
              "      <td>0</td>\n",
              "    </tr>\n",
              "    <tr>\n",
              "      <th>3</th>\n",
              "      <td>568</td>\n",
              "      <td>0</td>\n",
              "      <td>3</td>\n",
              "      <td>Palsson, Mrs. Nils (Alma Cornelia Berglund)</td>\n",
              "      <td>0</td>\n",
              "      <td>2</td>\n",
              "      <td>0</td>\n",
              "      <td>4</td>\n",
              "      <td>349909</td>\n",
              "      <td>2</td>\n",
              "      <td>NaN</td>\n",
              "      <td>0</td>\n",
              "      <td>0</td>\n",
              "      <td>5</td>\n",
              "      <td>0</td>\n",
              "      <td>2</td>\n",
              "    </tr>\n",
              "    <tr>\n",
              "      <th>4</th>\n",
              "      <td>672</td>\n",
              "      <td>0</td>\n",
              "      <td>1</td>\n",
              "      <td>Davidson, Mr. Thornton</td>\n",
              "      <td>1</td>\n",
              "      <td>2</td>\n",
              "      <td>1</td>\n",
              "      <td>0</td>\n",
              "      <td>F.C. 12750</td>\n",
              "      <td>3</td>\n",
              "      <td>B71</td>\n",
              "      <td>0</td>\n",
              "      <td>1</td>\n",
              "      <td>2</td>\n",
              "      <td>0</td>\n",
              "      <td>0</td>\n",
              "    </tr>\n",
              "  </tbody>\n",
              "</table>\n",
              "</div>"
            ],
            "text/plain": [
              "   PassengerId  Survived  Pclass  ... FamilySize  IsAlone  Title\n",
              "0          343         0       2  ...          1        1      0\n",
              "1           76         0       3  ...          1        1      0\n",
              "2          641         0       3  ...          1        1      0\n",
              "3          568         0       3  ...          5        0      2\n",
              "4          672         0       1  ...          2        0      0\n",
              "\n",
              "[5 rows x 16 columns]"
            ]
          },
          "metadata": {
            "tags": []
          },
          "execution_count": 314
        }
      ]
    },
    {
      "cell_type": "code",
      "metadata": {
        "colab": {
          "base_uri": "https://localhost:8080/"
        },
        "id": "E9-d0k92ffF_",
        "outputId": "ba25f14b-f6fb-4fdf-c9ef-b5a85d6701fb"
      },
      "source": [
        "data['Age'].value_counts()"
      ],
      "execution_count": null,
      "outputs": [
        {
          "output_type": "execute_result",
          "data": {
            "text/plain": [
              "2    716\n",
              "1     97\n",
              "3     64\n",
              "0     14\n",
              "Name: Age, dtype: int64"
            ]
          },
          "metadata": {
            "tags": []
          },
          "execution_count": 315
        }
      ]
    },
    {
      "cell_type": "markdown",
      "metadata": {
        "id": "xXB9Z2fn_Cgy"
      },
      "source": [
        "# **Dropping the useless features**"
      ]
    },
    {
      "cell_type": "code",
      "metadata": {
        "id": "iKLwZzQPEP8d"
      },
      "source": [
        "new_data = data.drop(['PassengerId', 'Name', 'Ticket', 'Cabin', 'SibSp'], axis = 1)"
      ],
      "execution_count": null,
      "outputs": []
    },
    {
      "cell_type": "code",
      "metadata": {
        "colab": {
          "base_uri": "https://localhost:8080/",
          "height": 202
        },
        "id": "rC6i94Kb_Iy2",
        "outputId": "5a226e99-90b0-4d67-873b-03ce1d6d6f80"
      },
      "source": [
        "new_data.head()"
      ],
      "execution_count": null,
      "outputs": [
        {
          "output_type": "execute_result",
          "data": {
            "text/html": [
              "<div>\n",
              "<style scoped>\n",
              "    .dataframe tbody tr th:only-of-type {\n",
              "        vertical-align: middle;\n",
              "    }\n",
              "\n",
              "    .dataframe tbody tr th {\n",
              "        vertical-align: top;\n",
              "    }\n",
              "\n",
              "    .dataframe thead th {\n",
              "        text-align: right;\n",
              "    }\n",
              "</style>\n",
              "<table border=\"1\" class=\"dataframe\">\n",
              "  <thead>\n",
              "    <tr style=\"text-align: right;\">\n",
              "      <th></th>\n",
              "      <th>Survived</th>\n",
              "      <th>Pclass</th>\n",
              "      <th>Sex</th>\n",
              "      <th>Age</th>\n",
              "      <th>Parch</th>\n",
              "      <th>Fare</th>\n",
              "      <th>Embarked</th>\n",
              "      <th>Cabin_n</th>\n",
              "      <th>FamilySize</th>\n",
              "      <th>IsAlone</th>\n",
              "      <th>Title</th>\n",
              "    </tr>\n",
              "  </thead>\n",
              "  <tbody>\n",
              "    <tr>\n",
              "      <th>0</th>\n",
              "      <td>0</td>\n",
              "      <td>2</td>\n",
              "      <td>1</td>\n",
              "      <td>2</td>\n",
              "      <td>0</td>\n",
              "      <td>1</td>\n",
              "      <td>0</td>\n",
              "      <td>0</td>\n",
              "      <td>1</td>\n",
              "      <td>1</td>\n",
              "      <td>0</td>\n",
              "    </tr>\n",
              "    <tr>\n",
              "      <th>1</th>\n",
              "      <td>0</td>\n",
              "      <td>3</td>\n",
              "      <td>1</td>\n",
              "      <td>2</td>\n",
              "      <td>0</td>\n",
              "      <td>0</td>\n",
              "      <td>0</td>\n",
              "      <td>1</td>\n",
              "      <td>1</td>\n",
              "      <td>1</td>\n",
              "      <td>0</td>\n",
              "    </tr>\n",
              "    <tr>\n",
              "      <th>2</th>\n",
              "      <td>0</td>\n",
              "      <td>3</td>\n",
              "      <td>1</td>\n",
              "      <td>2</td>\n",
              "      <td>0</td>\n",
              "      <td>0</td>\n",
              "      <td>0</td>\n",
              "      <td>0</td>\n",
              "      <td>1</td>\n",
              "      <td>1</td>\n",
              "      <td>0</td>\n",
              "    </tr>\n",
              "    <tr>\n",
              "      <th>3</th>\n",
              "      <td>0</td>\n",
              "      <td>3</td>\n",
              "      <td>0</td>\n",
              "      <td>2</td>\n",
              "      <td>4</td>\n",
              "      <td>2</td>\n",
              "      <td>0</td>\n",
              "      <td>0</td>\n",
              "      <td>5</td>\n",
              "      <td>0</td>\n",
              "      <td>2</td>\n",
              "    </tr>\n",
              "    <tr>\n",
              "      <th>4</th>\n",
              "      <td>0</td>\n",
              "      <td>1</td>\n",
              "      <td>1</td>\n",
              "      <td>2</td>\n",
              "      <td>0</td>\n",
              "      <td>3</td>\n",
              "      <td>0</td>\n",
              "      <td>1</td>\n",
              "      <td>2</td>\n",
              "      <td>0</td>\n",
              "      <td>0</td>\n",
              "    </tr>\n",
              "  </tbody>\n",
              "</table>\n",
              "</div>"
            ],
            "text/plain": [
              "   Survived  Pclass  Sex  Age  ...  Cabin_n  FamilySize  IsAlone  Title\n",
              "0         0       2    1    2  ...        0           1        1      0\n",
              "1         0       3    1    2  ...        1           1        1      0\n",
              "2         0       3    1    2  ...        0           1        1      0\n",
              "3         0       3    0    2  ...        0           5        0      2\n",
              "4         0       1    1    2  ...        1           2        0      0\n",
              "\n",
              "[5 rows x 11 columns]"
            ]
          },
          "metadata": {
            "tags": []
          },
          "execution_count": 317
        }
      ]
    },
    {
      "cell_type": "code",
      "metadata": {
        "colab": {
          "base_uri": "https://localhost:8080/"
        },
        "id": "bKBT5LBy23yE",
        "outputId": "f8bc218e-b5b9-4514-df8b-63812b88d762"
      },
      "source": [
        "new_data['IsAlone'].value_counts()"
      ],
      "execution_count": null,
      "outputs": [
        {
          "output_type": "execute_result",
          "data": {
            "text/plain": [
              "1    537\n",
              "0    354\n",
              "Name: IsAlone, dtype: int64"
            ]
          },
          "metadata": {
            "tags": []
          },
          "execution_count": 318
        }
      ]
    },
    {
      "cell_type": "markdown",
      "metadata": {
        "id": "KE-wDotQnpxZ"
      },
      "source": [
        "# Note: \n",
        "* now our data is clean\n",
        "* and all the important categorical features are numerical\n",
        "\n"
      ]
    },
    {
      "cell_type": "markdown",
      "metadata": {
        "id": "BxW87A7woMDI"
      },
      "source": [
        "# **Modeling**"
      ]
    },
    {
      "cell_type": "markdown",
      "metadata": {
        "id": "IZhg6nJBFZIz"
      },
      "source": [
        "* **Training set and Testing set**"
      ]
    },
    {
      "cell_type": "code",
      "metadata": {
        "id": "x7j_LlRGCcFN"
      },
      "source": [
        "#importing relevant libraries\n",
        "from sklearn.model_selection import train_test_split\n",
        "from sklearn import tree   \n",
        "from sklearn.metrics import confusion_matrix, accuracy_score, precision_score, recall_score, f1_score\n",
        "from sklearn.tree import DecisionTreeClassifier, export_graphviz\n",
        "import graphviz "
      ],
      "execution_count": null,
      "outputs": []
    },
    {
      "cell_type": "code",
      "metadata": {
        "id": "UiciWk2kCb-S"
      },
      "source": [
        "# features extraction\n",
        "x = new_data.drop('Survived', axis=1)\n",
        "y = new_data['Survived']"
      ],
      "execution_count": null,
      "outputs": []
    },
    {
      "cell_type": "code",
      "metadata": {
        "id": "HAonvt4XGJrd"
      },
      "source": [
        "# splitting data\n",
        "x_train, x_test, y_train, y_test = train_test_split(x, y, \n",
        "                                                    test_size = 0.20, \n",
        "                                                    random_state = 10)"
      ],
      "execution_count": null,
      "outputs": []
    },
    {
      "cell_type": "markdown",
      "metadata": {
        "id": "KBqyRJHa2n0w"
      },
      "source": [
        "# Decision Tree"
      ]
    },
    {
      "cell_type": "markdown",
      "metadata": {
        "id": "e9KOOpZ5Grfv"
      },
      "source": [
        "* **Apply decision tree**"
      ]
    },
    {
      "cell_type": "code",
      "metadata": {
        "id": "w4OhuUlHpEZ6"
      },
      "source": [
        "# applying tree algorithm\n",
        "tree_clf = tree.DecisionTreeClassifier(max_depth=5) "
      ],
      "execution_count": null,
      "outputs": []
    },
    {
      "cell_type": "code",
      "metadata": {
        "id": "xyfOaI9NGJpg"
      },
      "source": [
        "# fitting our model\n",
        "tree_model = tree_clf.fit(x_train, y_train) \n",
        "\n",
        "# evaluating our model\n",
        "y_pred= tree_model.predict(x_test)\n"
      ],
      "execution_count": null,
      "outputs": []
    },
    {
      "cell_type": "code",
      "metadata": {
        "colab": {
          "base_uri": "https://localhost:8080/"
        },
        "id": "-Krg1l1VvL89",
        "outputId": "0d7ab6dc-0ffa-4b7e-8fec-bfc003fa7686"
      },
      "source": [
        "confusion_matrix(y_test, y_pred)"
      ],
      "execution_count": null,
      "outputs": [
        {
          "output_type": "execute_result",
          "data": {
            "text/plain": [
              "array([[101,   4],\n",
              "       [ 27,  47]])"
            ]
          },
          "metadata": {
            "tags": []
          },
          "execution_count": 392
        }
      ]
    },
    {
      "cell_type": "markdown",
      "metadata": {
        "id": "VYIQYhYzvahI"
      },
      "source": [
        "- We want to minimize false positives and false negatives here:\n",
        "\n",
        "    * ==> FP = 4 & FN = 27\n",
        "    * it's pretty good in false positibe & it's not too bad in FN"
      ]
    },
    {
      "cell_type": "code",
      "metadata": {
        "colab": {
          "base_uri": "https://localhost:8080/"
        },
        "id": "-4TagvkopO2b",
        "outputId": "7b2eba09-c475-47b5-eacc-392f619c935e"
      },
      "source": [
        "# Measuring the accuracy of our model\n",
        "accuracy = accuracy_score(y_test, y_pred) * 100\n",
        "f1 = f1_score(y_test, y_pred) * 100\n",
        "precision = precision_score(y_test, y_pred) * 100\n",
        "recall = recall_score(y_test, y_pred) * 100\n",
        "\n",
        "print(\"Accuracy score = %.2f\" %accuracy,\"%\")\n",
        "print(\"f1 score = %.2f\" %f1,\"%\")\n",
        "print(\"precision score = %.2f\" %precision,\"%\")\n",
        "print(\"recall score = %.2f\" %recall,\"%\")"
      ],
      "execution_count": null,
      "outputs": [
        {
          "output_type": "stream",
          "text": [
            "Accuracy score = 82.68 %\n",
            "f1 score = 75.20 %\n",
            "precision score = 92.16 %\n",
            "recall score = 63.51 %\n"
          ],
          "name": "stdout"
        }
      ]
    },
    {
      "cell_type": "markdown",
      "metadata": {
        "id": "ar54q5qkHpSq"
      },
      "source": [
        "* **plotting the Tree**"
      ]
    },
    {
      "cell_type": "code",
      "metadata": {
        "colab": {
          "base_uri": "https://localhost:8080/",
          "height": 936
        },
        "id": "BzhqDfNIGJmq",
        "outputId": "967e9665-7dac-44f8-f1ba-753ba3f1b1b7"
      },
      "source": [
        "dot_data = export_graphviz(tree_model, \n",
        "                           out_file=None,\n",
        "                           filled=True,\n",
        "                           rounded=True,\n",
        "                           class_names = ['Lost', 'Survived'],  \n",
        "                           special_characters=True,\n",
        "                           feature_names = x.columns) \n",
        "\n",
        "graph = graphviz.Source(dot_data)\n",
        "graph"
      ],
      "execution_count": null,
      "outputs": [
        {
          "output_type": "execute_result",
          "data": {
            "text/plain": [
              "<graphviz.files.Source at 0x7f9f18178d50>"
            ],
            "image/svg+xml": "<?xml version=\"1.0\" encoding=\"UTF-8\" standalone=\"no\"?>\n<!DOCTYPE svg PUBLIC \"-//W3C//DTD SVG 1.1//EN\"\n \"http://www.w3.org/Graphics/SVG/1.1/DTD/svg11.dtd\">\n<!-- Generated by graphviz version 2.40.1 (20161225.0304)\n -->\n<!-- Title: Tree Pages: 1 -->\n<svg width=\"2911pt\" height=\"671pt\"\n viewBox=\"0.00 0.00 2910.50 671.00\" xmlns=\"http://www.w3.org/2000/svg\" xmlns:xlink=\"http://www.w3.org/1999/xlink\">\n<g id=\"graph0\" class=\"graph\" transform=\"scale(1 1) rotate(0) translate(4 667)\">\n<title>Tree</title>\n<polygon fill=\"#ffffff\" stroke=\"transparent\" points=\"-4,4 -4,-667 2906.5,-667 2906.5,4 -4,4\"/>\n<!-- 0 -->\n<g id=\"node1\" class=\"node\">\n<title>0</title>\n<path fill=\"#f5cdb1\" stroke=\"#000000\" d=\"M1546,-663C1546,-663 1438,-663 1438,-663 1432,-663 1426,-657 1426,-651 1426,-651 1426,-592 1426,-592 1426,-586 1432,-580 1438,-580 1438,-580 1546,-580 1546,-580 1552,-580 1558,-586 1558,-592 1558,-592 1558,-651 1558,-651 1558,-657 1552,-663 1546,-663\"/>\n<text text-anchor=\"start\" x=\"1461\" y=\"-647.8\" font-family=\"Helvetica,sans-Serif\" font-size=\"14.00\" fill=\"#000000\">Title ≤ 0.5</text>\n<text text-anchor=\"start\" x=\"1454\" y=\"-632.8\" font-family=\"Helvetica,sans-Serif\" font-size=\"14.00\" fill=\"#000000\">gini = 0.469</text>\n<text text-anchor=\"start\" x=\"1444\" y=\"-617.8\" font-family=\"Helvetica,sans-Serif\" font-size=\"14.00\" fill=\"#000000\">samples = 712</text>\n<text text-anchor=\"start\" x=\"1434\" y=\"-602.8\" font-family=\"Helvetica,sans-Serif\" font-size=\"14.00\" fill=\"#000000\">value = [444, 268]</text>\n<text text-anchor=\"start\" x=\"1453\" y=\"-587.8\" font-family=\"Helvetica,sans-Serif\" font-size=\"14.00\" fill=\"#000000\">class = Lost</text>\n</g>\n<!-- 1 -->\n<g id=\"node2\" class=\"node\">\n<title>1</title>\n<path fill=\"#ea985d\" stroke=\"#000000\" d=\"M1283,-544C1283,-544 1183,-544 1183,-544 1177,-544 1171,-538 1171,-532 1171,-532 1171,-473 1171,-473 1171,-467 1177,-461 1183,-461 1183,-461 1283,-461 1283,-461 1289,-461 1295,-467 1295,-473 1295,-473 1295,-532 1295,-532 1295,-538 1289,-544 1283,-544\"/>\n<text text-anchor=\"start\" x=\"1187.5\" y=\"-528.8\" font-family=\"Helvetica,sans-Serif\" font-size=\"14.00\" fill=\"#000000\">Cabin_n ≤ 0.5</text>\n<text text-anchor=\"start\" x=\"1195\" y=\"-513.8\" font-family=\"Helvetica,sans-Serif\" font-size=\"14.00\" fill=\"#000000\">gini = 0.258</text>\n<text text-anchor=\"start\" x=\"1185\" y=\"-498.8\" font-family=\"Helvetica,sans-Serif\" font-size=\"14.00\" fill=\"#000000\">samples = 420</text>\n<text text-anchor=\"start\" x=\"1179\" y=\"-483.8\" font-family=\"Helvetica,sans-Serif\" font-size=\"14.00\" fill=\"#000000\">value = [356, 64]</text>\n<text text-anchor=\"start\" x=\"1194\" y=\"-468.8\" font-family=\"Helvetica,sans-Serif\" font-size=\"14.00\" fill=\"#000000\">class = Lost</text>\n</g>\n<!-- 0&#45;&gt;1 -->\n<g id=\"edge1\" class=\"edge\">\n<title>0&#45;&gt;1</title>\n<path fill=\"none\" stroke=\"#000000\" d=\"M1425.9732,-591.1634C1388.9451,-574.1505 1342.7188,-552.9113 1304.7933,-535.4861\"/>\n<polygon fill=\"#000000\" stroke=\"#000000\" points=\"1305.8888,-532.1377 1295.3408,-531.1431 1302.9663,-538.4985 1305.8888,-532.1377\"/>\n<text text-anchor=\"middle\" x=\"1304.0236\" y=\"-550.8868\" font-family=\"Helvetica,sans-Serif\" font-size=\"14.00\" fill=\"#000000\">True</text>\n</g>\n<!-- 26 -->\n<g id=\"node27\" class=\"node\">\n<title>26</title>\n<path fill=\"#8ec7f0\" stroke=\"#000000\" d=\"M1873,-544C1873,-544 1773,-544 1773,-544 1767,-544 1761,-538 1761,-532 1761,-532 1761,-473 1761,-473 1761,-467 1767,-461 1773,-461 1773,-461 1873,-461 1873,-461 1879,-461 1885,-467 1885,-473 1885,-473 1885,-532 1885,-532 1885,-538 1879,-544 1873,-544\"/>\n<text text-anchor=\"start\" x=\"1783.5\" y=\"-528.8\" font-family=\"Helvetica,sans-Serif\" font-size=\"14.00\" fill=\"#000000\">Pclass ≤ 2.5</text>\n<text text-anchor=\"start\" x=\"1785\" y=\"-513.8\" font-family=\"Helvetica,sans-Serif\" font-size=\"14.00\" fill=\"#000000\">gini = 0.421</text>\n<text text-anchor=\"start\" x=\"1775\" y=\"-498.8\" font-family=\"Helvetica,sans-Serif\" font-size=\"14.00\" fill=\"#000000\">samples = 292</text>\n<text text-anchor=\"start\" x=\"1769\" y=\"-483.8\" font-family=\"Helvetica,sans-Serif\" font-size=\"14.00\" fill=\"#000000\">value = [88, 204]</text>\n<text text-anchor=\"start\" x=\"1769.5\" y=\"-468.8\" font-family=\"Helvetica,sans-Serif\" font-size=\"14.00\" fill=\"#000000\">class = Survived</text>\n</g>\n<!-- 0&#45;&gt;26 -->\n<g id=\"edge26\" class=\"edge\">\n<title>0&#45;&gt;26</title>\n<path fill=\"none\" stroke=\"#000000\" d=\"M1558.1873,-597.7046C1614.0087,-577.6359 1693.75,-548.9675 1751.1225,-528.3411\"/>\n<polygon fill=\"#000000\" stroke=\"#000000\" points=\"1752.62,-531.5222 1760.8462,-524.8453 1750.2517,-524.935 1752.62,-531.5222\"/>\n<text text-anchor=\"middle\" x=\"1750.1916\" y=\"-543.7612\" font-family=\"Helvetica,sans-Serif\" font-size=\"14.00\" fill=\"#000000\">False</text>\n</g>\n<!-- 2 -->\n<g id=\"node3\" class=\"node\">\n<title>2</title>\n<path fill=\"#e89051\" stroke=\"#000000\" d=\"M816,-425C816,-425 716,-425 716,-425 710,-425 704,-419 704,-413 704,-413 704,-354 704,-354 704,-348 710,-342 716,-342 716,-342 816,-342 816,-342 822,-342 828,-348 828,-354 828,-354 828,-413 828,-413 828,-419 822,-425 816,-425\"/>\n<text text-anchor=\"start\" x=\"712.5\" y=\"-409.8\" font-family=\"Helvetica,sans-Serif\" font-size=\"14.00\" fill=\"#000000\">FamilySize ≤ 1.5</text>\n<text text-anchor=\"start\" x=\"728\" y=\"-394.8\" font-family=\"Helvetica,sans-Serif\" font-size=\"14.00\" fill=\"#000000\">gini = 0.192</text>\n<text text-anchor=\"start\" x=\"718\" y=\"-379.8\" font-family=\"Helvetica,sans-Serif\" font-size=\"14.00\" fill=\"#000000\">samples = 344</text>\n<text text-anchor=\"start\" x=\"712\" y=\"-364.8\" font-family=\"Helvetica,sans-Serif\" font-size=\"14.00\" fill=\"#000000\">value = [307, 37]</text>\n<text text-anchor=\"start\" x=\"727\" y=\"-349.8\" font-family=\"Helvetica,sans-Serif\" font-size=\"14.00\" fill=\"#000000\">class = Lost</text>\n</g>\n<!-- 1&#45;&gt;2 -->\n<g id=\"edge2\" class=\"edge\">\n<title>1&#45;&gt;2</title>\n<path fill=\"none\" stroke=\"#000000\" d=\"M1170.986,-486.6977C1084.806,-464.7375 929.1675,-425.078 837.9756,-401.8407\"/>\n<polygon fill=\"#000000\" stroke=\"#000000\" points=\"838.8251,-398.4454 828.2705,-399.3676 837.0965,-405.2286 838.8251,-398.4454\"/>\n</g>\n<!-- 17 -->\n<g id=\"node18\" class=\"node\">\n<title>17</title>\n<path fill=\"#f3c6a6\" stroke=\"#000000\" d=\"M1279,-425C1279,-425 1187,-425 1187,-425 1181,-425 1175,-419 1175,-413 1175,-413 1175,-354 1175,-354 1175,-348 1181,-342 1187,-342 1187,-342 1279,-342 1279,-342 1285,-342 1291,-348 1291,-354 1291,-354 1291,-413 1291,-413 1291,-419 1285,-425 1279,-425\"/>\n<text text-anchor=\"start\" x=\"1200\" y=\"-409.8\" font-family=\"Helvetica,sans-Serif\" font-size=\"14.00\" fill=\"#000000\">Fare ≤ 0.5</text>\n<text text-anchor=\"start\" x=\"1195\" y=\"-394.8\" font-family=\"Helvetica,sans-Serif\" font-size=\"14.00\" fill=\"#000000\">gini = 0.458</text>\n<text text-anchor=\"start\" x=\"1189\" y=\"-379.8\" font-family=\"Helvetica,sans-Serif\" font-size=\"14.00\" fill=\"#000000\">samples = 76</text>\n<text text-anchor=\"start\" x=\"1183\" y=\"-364.8\" font-family=\"Helvetica,sans-Serif\" font-size=\"14.00\" fill=\"#000000\">value = [49, 27]</text>\n<text text-anchor=\"start\" x=\"1194\" y=\"-349.8\" font-family=\"Helvetica,sans-Serif\" font-size=\"14.00\" fill=\"#000000\">class = Lost</text>\n</g>\n<!-- 1&#45;&gt;17 -->\n<g id=\"edge17\" class=\"edge\">\n<title>1&#45;&gt;17</title>\n<path fill=\"none\" stroke=\"#000000\" d=\"M1233,-460.8796C1233,-452.6838 1233,-443.9891 1233,-435.5013\"/>\n<polygon fill=\"#000000\" stroke=\"#000000\" points=\"1236.5001,-435.298 1233,-425.2981 1229.5001,-435.2981 1236.5001,-435.298\"/>\n</g>\n<!-- 3 -->\n<g id=\"node4\" class=\"node\">\n<title>3</title>\n<path fill=\"#e99355\" stroke=\"#000000\" d=\"M448,-306C448,-306 348,-306 348,-306 342,-306 336,-300 336,-294 336,-294 336,-235 336,-235 336,-229 342,-223 348,-223 348,-223 448,-223 448,-223 454,-223 460,-229 460,-235 460,-235 460,-294 460,-294 460,-300 454,-306 448,-306\"/>\n<text text-anchor=\"start\" x=\"365\" y=\"-290.8\" font-family=\"Helvetica,sans-Serif\" font-size=\"14.00\" fill=\"#000000\">Fare ≤ 1.5</text>\n<text text-anchor=\"start\" x=\"360\" y=\"-275.8\" font-family=\"Helvetica,sans-Serif\" font-size=\"14.00\" fill=\"#000000\">gini = 0.215</text>\n<text text-anchor=\"start\" x=\"350\" y=\"-260.8\" font-family=\"Helvetica,sans-Serif\" font-size=\"14.00\" fill=\"#000000\">samples = 277</text>\n<text text-anchor=\"start\" x=\"344\" y=\"-245.8\" font-family=\"Helvetica,sans-Serif\" font-size=\"14.00\" fill=\"#000000\">value = [243, 34]</text>\n<text text-anchor=\"start\" x=\"359\" y=\"-230.8\" font-family=\"Helvetica,sans-Serif\" font-size=\"14.00\" fill=\"#000000\">class = Lost</text>\n</g>\n<!-- 2&#45;&gt;3 -->\n<g id=\"edge3\" class=\"edge\">\n<title>2&#45;&gt;3</title>\n<path fill=\"none\" stroke=\"#000000\" d=\"M703.9899,-363.4478C639.3667,-342.5506 538.2049,-309.838 470.0692,-287.805\"/>\n<polygon fill=\"#000000\" stroke=\"#000000\" points=\"470.8561,-284.3811 460.2643,-284.6344 468.7023,-291.0415 470.8561,-284.3811\"/>\n</g>\n<!-- 10 -->\n<g id=\"node11\" class=\"node\">\n<title>10</title>\n<path fill=\"#e68742\" stroke=\"#000000\" d=\"M813.5,-306C813.5,-306 718.5,-306 718.5,-306 712.5,-306 706.5,-300 706.5,-294 706.5,-294 706.5,-235 706.5,-235 706.5,-229 712.5,-223 718.5,-223 718.5,-223 813.5,-223 813.5,-223 819.5,-223 825.5,-229 825.5,-235 825.5,-235 825.5,-294 825.5,-294 825.5,-300 819.5,-306 813.5,-306\"/>\n<text text-anchor=\"start\" x=\"714.5\" y=\"-290.8\" font-family=\"Helvetica,sans-Serif\" font-size=\"14.00\" fill=\"#000000\">Embarked ≤ 1.5</text>\n<text text-anchor=\"start\" x=\"728\" y=\"-275.8\" font-family=\"Helvetica,sans-Serif\" font-size=\"14.00\" fill=\"#000000\">gini = 0.086</text>\n<text text-anchor=\"start\" x=\"722\" y=\"-260.8\" font-family=\"Helvetica,sans-Serif\" font-size=\"14.00\" fill=\"#000000\">samples = 67</text>\n<text text-anchor=\"start\" x=\"720.5\" y=\"-245.8\" font-family=\"Helvetica,sans-Serif\" font-size=\"14.00\" fill=\"#000000\">value = [64, 3]</text>\n<text text-anchor=\"start\" x=\"727\" y=\"-230.8\" font-family=\"Helvetica,sans-Serif\" font-size=\"14.00\" fill=\"#000000\">class = Lost</text>\n</g>\n<!-- 2&#45;&gt;10 -->\n<g id=\"edge10\" class=\"edge\">\n<title>2&#45;&gt;10</title>\n<path fill=\"none\" stroke=\"#000000\" d=\"M766,-341.8796C766,-333.6838 766,-324.9891 766,-316.5013\"/>\n<polygon fill=\"#000000\" stroke=\"#000000\" points=\"769.5001,-316.298 766,-306.2981 762.5001,-316.2981 769.5001,-316.298\"/>\n</g>\n<!-- 4 -->\n<g id=\"node5\" class=\"node\">\n<title>4</title>\n<path fill=\"#e89051\" stroke=\"#000000\" d=\"M250,-187C250,-187 150,-187 150,-187 144,-187 138,-181 138,-175 138,-175 138,-116 138,-116 138,-110 144,-104 150,-104 150,-104 250,-104 250,-104 256,-104 262,-110 262,-116 262,-116 262,-175 262,-175 262,-181 256,-187 250,-187\"/>\n<text text-anchor=\"start\" x=\"167\" y=\"-171.8\" font-family=\"Helvetica,sans-Serif\" font-size=\"14.00\" fill=\"#000000\">Fare ≤ 0.5</text>\n<text text-anchor=\"start\" x=\"162\" y=\"-156.8\" font-family=\"Helvetica,sans-Serif\" font-size=\"14.00\" fill=\"#000000\">gini = 0.193</text>\n<text text-anchor=\"start\" x=\"152\" y=\"-141.8\" font-family=\"Helvetica,sans-Serif\" font-size=\"14.00\" fill=\"#000000\">samples = 240</text>\n<text text-anchor=\"start\" x=\"146\" y=\"-126.8\" font-family=\"Helvetica,sans-Serif\" font-size=\"14.00\" fill=\"#000000\">value = [214, 26]</text>\n<text text-anchor=\"start\" x=\"161\" y=\"-111.8\" font-family=\"Helvetica,sans-Serif\" font-size=\"14.00\" fill=\"#000000\">class = Lost</text>\n</g>\n<!-- 3&#45;&gt;4 -->\n<g id=\"edge4\" class=\"edge\">\n<title>3&#45;&gt;4</title>\n<path fill=\"none\" stroke=\"#000000\" d=\"M335.8948,-227.1742C315.2614,-214.7733 292.1328,-200.8727 270.8876,-188.1042\"/>\n<polygon fill=\"#000000\" stroke=\"#000000\" points=\"272.5991,-185.0493 262.225,-182.8978 268.9931,-191.0491 272.5991,-185.0493\"/>\n</g>\n<!-- 7 -->\n<g id=\"node8\" class=\"node\">\n<title>7</title>\n<path fill=\"#eca470\" stroke=\"#000000\" d=\"M445.5,-187C445.5,-187 350.5,-187 350.5,-187 344.5,-187 338.5,-181 338.5,-175 338.5,-175 338.5,-116 338.5,-116 338.5,-110 344.5,-104 350.5,-104 350.5,-104 445.5,-104 445.5,-104 451.5,-104 457.5,-110 457.5,-116 457.5,-116 457.5,-175 457.5,-175 457.5,-181 451.5,-187 445.5,-187\"/>\n<text text-anchor=\"start\" x=\"346.5\" y=\"-171.8\" font-family=\"Helvetica,sans-Serif\" font-size=\"14.00\" fill=\"#000000\">Embarked ≤ 0.5</text>\n<text text-anchor=\"start\" x=\"360\" y=\"-156.8\" font-family=\"Helvetica,sans-Serif\" font-size=\"14.00\" fill=\"#000000\">gini = 0.339</text>\n<text text-anchor=\"start\" x=\"354\" y=\"-141.8\" font-family=\"Helvetica,sans-Serif\" font-size=\"14.00\" fill=\"#000000\">samples = 37</text>\n<text text-anchor=\"start\" x=\"352.5\" y=\"-126.8\" font-family=\"Helvetica,sans-Serif\" font-size=\"14.00\" fill=\"#000000\">value = [29, 8]</text>\n<text text-anchor=\"start\" x=\"359\" y=\"-111.8\" font-family=\"Helvetica,sans-Serif\" font-size=\"14.00\" fill=\"#000000\">class = Lost</text>\n</g>\n<!-- 3&#45;&gt;7 -->\n<g id=\"edge7\" class=\"edge\">\n<title>3&#45;&gt;7</title>\n<path fill=\"none\" stroke=\"#000000\" d=\"M398,-222.8796C398,-214.6838 398,-205.9891 398,-197.5013\"/>\n<polygon fill=\"#000000\" stroke=\"#000000\" points=\"401.5001,-197.298 398,-187.2981 394.5001,-197.2981 401.5001,-197.298\"/>\n</g>\n<!-- 5 -->\n<g id=\"node6\" class=\"node\">\n<title>5</title>\n<path fill=\"#e88e4d\" stroke=\"#000000\" d=\"M112,-68C112,-68 12,-68 12,-68 6,-68 0,-62 0,-56 0,-56 0,-12 0,-12 0,-6 6,0 12,0 12,0 112,0 112,0 118,0 124,-6 124,-12 124,-12 124,-56 124,-56 124,-62 118,-68 112,-68\"/>\n<text text-anchor=\"start\" x=\"24\" y=\"-52.8\" font-family=\"Helvetica,sans-Serif\" font-size=\"14.00\" fill=\"#000000\">gini = 0.165</text>\n<text text-anchor=\"start\" x=\"14\" y=\"-37.8\" font-family=\"Helvetica,sans-Serif\" font-size=\"14.00\" fill=\"#000000\">samples = 132</text>\n<text text-anchor=\"start\" x=\"8\" y=\"-22.8\" font-family=\"Helvetica,sans-Serif\" font-size=\"14.00\" fill=\"#000000\">value = [120, 12]</text>\n<text text-anchor=\"start\" x=\"23\" y=\"-7.8\" font-family=\"Helvetica,sans-Serif\" font-size=\"14.00\" fill=\"#000000\">class = Lost</text>\n</g>\n<!-- 4&#45;&gt;5 -->\n<g id=\"edge5\" class=\"edge\">\n<title>4&#45;&gt;5</title>\n<path fill=\"none\" stroke=\"#000000\" d=\"M148.6139,-103.9815C136.7839,-94.4232 124.2136,-84.2668 112.4249,-74.7419\"/>\n<polygon fill=\"#000000\" stroke=\"#000000\" points=\"114.3851,-71.826 104.4071,-68.2637 109.9858,-77.2708 114.3851,-71.826\"/>\n</g>\n<!-- 6 -->\n<g id=\"node7\" class=\"node\">\n<title>6</title>\n<path fill=\"#e99456\" stroke=\"#000000\" d=\"M246,-68C246,-68 154,-68 154,-68 148,-68 142,-62 142,-56 142,-56 142,-12 142,-12 142,-6 148,0 154,0 154,0 246,0 246,0 252,0 258,-6 258,-12 258,-12 258,-56 258,-56 258,-62 252,-68 246,-68\"/>\n<text text-anchor=\"start\" x=\"162\" y=\"-52.8\" font-family=\"Helvetica,sans-Serif\" font-size=\"14.00\" fill=\"#000000\">gini = 0.226</text>\n<text text-anchor=\"start\" x=\"152\" y=\"-37.8\" font-family=\"Helvetica,sans-Serif\" font-size=\"14.00\" fill=\"#000000\">samples = 108</text>\n<text text-anchor=\"start\" x=\"150\" y=\"-22.8\" font-family=\"Helvetica,sans-Serif\" font-size=\"14.00\" fill=\"#000000\">value = [94, 14]</text>\n<text text-anchor=\"start\" x=\"161\" y=\"-7.8\" font-family=\"Helvetica,sans-Serif\" font-size=\"14.00\" fill=\"#000000\">class = Lost</text>\n</g>\n<!-- 4&#45;&gt;6 -->\n<g id=\"edge6\" class=\"edge\">\n<title>4&#45;&gt;6</title>\n<path fill=\"none\" stroke=\"#000000\" d=\"M200,-103.9815C200,-95.618 200,-86.7965 200,-78.3409\"/>\n<polygon fill=\"#000000\" stroke=\"#000000\" points=\"203.5001,-78.2636 200,-68.2637 196.5001,-78.2637 203.5001,-78.2636\"/>\n</g>\n<!-- 8 -->\n<g id=\"node9\" class=\"node\">\n<title>8</title>\n<path fill=\"#efb286\" stroke=\"#000000\" d=\"M371.5,-68C371.5,-68 288.5,-68 288.5,-68 282.5,-68 276.5,-62 276.5,-56 276.5,-56 276.5,-12 276.5,-12 276.5,-6 282.5,0 288.5,0 288.5,0 371.5,0 371.5,0 377.5,0 383.5,-6 383.5,-12 383.5,-12 383.5,-56 383.5,-56 383.5,-62 377.5,-68 371.5,-68\"/>\n<text text-anchor=\"start\" x=\"292\" y=\"-52.8\" font-family=\"Helvetica,sans-Serif\" font-size=\"14.00\" fill=\"#000000\">gini = 0.403</text>\n<text text-anchor=\"start\" x=\"286\" y=\"-37.8\" font-family=\"Helvetica,sans-Serif\" font-size=\"14.00\" fill=\"#000000\">samples = 25</text>\n<text text-anchor=\"start\" x=\"284.5\" y=\"-22.8\" font-family=\"Helvetica,sans-Serif\" font-size=\"14.00\" fill=\"#000000\">value = [18, 7]</text>\n<text text-anchor=\"start\" x=\"291\" y=\"-7.8\" font-family=\"Helvetica,sans-Serif\" font-size=\"14.00\" fill=\"#000000\">class = Lost</text>\n</g>\n<!-- 7&#45;&gt;8 -->\n<g id=\"edge8\" class=\"edge\">\n<title>7&#45;&gt;8</title>\n<path fill=\"none\" stroke=\"#000000\" d=\"M372.6793,-103.9815C367.2984,-95.1585 361.6068,-85.8258 356.1941,-76.9506\"/>\n<polygon fill=\"#000000\" stroke=\"#000000\" points=\"359.0912,-74.9789 350.8962,-68.2637 353.1149,-78.6236 359.0912,-74.9789\"/>\n</g>\n<!-- 9 -->\n<g id=\"node10\" class=\"node\">\n<title>9</title>\n<path fill=\"#e78c4b\" stroke=\"#000000\" d=\"M496.5,-68C496.5,-68 413.5,-68 413.5,-68 407.5,-68 401.5,-62 401.5,-56 401.5,-56 401.5,-12 401.5,-12 401.5,-6 407.5,0 413.5,0 413.5,0 496.5,0 496.5,0 502.5,0 508.5,-6 508.5,-12 508.5,-12 508.5,-56 508.5,-56 508.5,-62 502.5,-68 496.5,-68\"/>\n<text text-anchor=\"start\" x=\"417\" y=\"-52.8\" font-family=\"Helvetica,sans-Serif\" font-size=\"14.00\" fill=\"#000000\">gini = 0.153</text>\n<text text-anchor=\"start\" x=\"411\" y=\"-37.8\" font-family=\"Helvetica,sans-Serif\" font-size=\"14.00\" fill=\"#000000\">samples = 12</text>\n<text text-anchor=\"start\" x=\"409.5\" y=\"-22.8\" font-family=\"Helvetica,sans-Serif\" font-size=\"14.00\" fill=\"#000000\">value = [11, 1]</text>\n<text text-anchor=\"start\" x=\"416\" y=\"-7.8\" font-family=\"Helvetica,sans-Serif\" font-size=\"14.00\" fill=\"#000000\">class = Lost</text>\n</g>\n<!-- 7&#45;&gt;9 -->\n<g id=\"edge9\" class=\"edge\">\n<title>7&#45;&gt;9</title>\n<path fill=\"none\" stroke=\"#000000\" d=\"M419.2247,-103.9815C423.6881,-95.2504 428.4067,-86.0202 432.9013,-77.2281\"/>\n<polygon fill=\"#000000\" stroke=\"#000000\" points=\"436.0486,-78.7608 437.484,-68.2637 429.8158,-75.5745 436.0486,-78.7608\"/>\n</g>\n<!-- 11 -->\n<g id=\"node12\" class=\"node\">\n<title>11</title>\n<path fill=\"#e6853f\" stroke=\"#000000\" d=\"M743.5,-187C743.5,-187 648.5,-187 648.5,-187 642.5,-187 636.5,-181 636.5,-175 636.5,-175 636.5,-116 636.5,-116 636.5,-110 642.5,-104 648.5,-104 648.5,-104 743.5,-104 743.5,-104 749.5,-104 755.5,-110 755.5,-116 755.5,-116 755.5,-175 755.5,-175 755.5,-181 749.5,-187 743.5,-187\"/>\n<text text-anchor=\"start\" x=\"644.5\" y=\"-171.8\" font-family=\"Helvetica,sans-Serif\" font-size=\"14.00\" fill=\"#000000\">Embarked ≤ 0.5</text>\n<text text-anchor=\"start\" x=\"658\" y=\"-156.8\" font-family=\"Helvetica,sans-Serif\" font-size=\"14.00\" fill=\"#000000\">gini = 0.061</text>\n<text text-anchor=\"start\" x=\"652\" y=\"-141.8\" font-family=\"Helvetica,sans-Serif\" font-size=\"14.00\" fill=\"#000000\">samples = 63</text>\n<text text-anchor=\"start\" x=\"650.5\" y=\"-126.8\" font-family=\"Helvetica,sans-Serif\" font-size=\"14.00\" fill=\"#000000\">value = [61, 2]</text>\n<text text-anchor=\"start\" x=\"657\" y=\"-111.8\" font-family=\"Helvetica,sans-Serif\" font-size=\"14.00\" fill=\"#000000\">class = Lost</text>\n</g>\n<!-- 10&#45;&gt;11 -->\n<g id=\"edge11\" class=\"edge\">\n<title>10&#45;&gt;11</title>\n<path fill=\"none\" stroke=\"#000000\" d=\"M741.5174,-222.8796C736.4315,-214.2335 731.0189,-205.0322 725.7672,-196.1042\"/>\n<polygon fill=\"#000000\" stroke=\"#000000\" points=\"728.6741,-194.1428 720.5871,-187.2981 722.6406,-197.692 728.6741,-194.1428\"/>\n</g>\n<!-- 14 -->\n<g id=\"node15\" class=\"node\">\n<title>14</title>\n<path fill=\"#eeab7b\" stroke=\"#000000\" d=\"M884.5,-187C884.5,-187 785.5,-187 785.5,-187 779.5,-187 773.5,-181 773.5,-175 773.5,-175 773.5,-116 773.5,-116 773.5,-110 779.5,-104 785.5,-104 785.5,-104 884.5,-104 884.5,-104 890.5,-104 896.5,-110 896.5,-116 896.5,-116 896.5,-175 896.5,-175 896.5,-181 890.5,-187 884.5,-187\"/>\n<text text-anchor=\"start\" x=\"781.5\" y=\"-171.8\" font-family=\"Helvetica,sans-Serif\" font-size=\"14.00\" fill=\"#000000\">FamilySize ≤ 2.5</text>\n<text text-anchor=\"start\" x=\"797\" y=\"-156.8\" font-family=\"Helvetica,sans-Serif\" font-size=\"14.00\" fill=\"#000000\">gini = 0.375</text>\n<text text-anchor=\"start\" x=\"795.5\" y=\"-141.8\" font-family=\"Helvetica,sans-Serif\" font-size=\"14.00\" fill=\"#000000\">samples = 4</text>\n<text text-anchor=\"start\" x=\"793.5\" y=\"-126.8\" font-family=\"Helvetica,sans-Serif\" font-size=\"14.00\" fill=\"#000000\">value = [3, 1]</text>\n<text text-anchor=\"start\" x=\"796\" y=\"-111.8\" font-family=\"Helvetica,sans-Serif\" font-size=\"14.00\" fill=\"#000000\">class = Lost</text>\n</g>\n<!-- 10&#45;&gt;14 -->\n<g id=\"edge14\" class=\"edge\">\n<title>10&#45;&gt;14</title>\n<path fill=\"none\" stroke=\"#000000\" d=\"M790.1329,-222.8796C795.1461,-214.2335 800.4813,-205.0322 805.6581,-196.1042\"/>\n<polygon fill=\"#000000\" stroke=\"#000000\" points=\"808.7758,-197.7047 810.7641,-187.2981 802.7202,-194.1934 808.7758,-197.7047\"/>\n</g>\n<!-- 12 -->\n<g id=\"node13\" class=\"node\">\n<title>12</title>\n<path fill=\"#e6833d\" stroke=\"#000000\" d=\"M621.5,-68C621.5,-68 538.5,-68 538.5,-68 532.5,-68 526.5,-62 526.5,-56 526.5,-56 526.5,-12 526.5,-12 526.5,-6 532.5,0 538.5,0 538.5,0 621.5,0 621.5,0 627.5,0 633.5,-6 633.5,-12 633.5,-12 633.5,-56 633.5,-56 633.5,-62 627.5,-68 621.5,-68\"/>\n<text text-anchor=\"start\" x=\"542\" y=\"-52.8\" font-family=\"Helvetica,sans-Serif\" font-size=\"14.00\" fill=\"#000000\">gini = 0.038</text>\n<text text-anchor=\"start\" x=\"536\" y=\"-37.8\" font-family=\"Helvetica,sans-Serif\" font-size=\"14.00\" fill=\"#000000\">samples = 52</text>\n<text text-anchor=\"start\" x=\"534.5\" y=\"-22.8\" font-family=\"Helvetica,sans-Serif\" font-size=\"14.00\" fill=\"#000000\">value = [51, 1]</text>\n<text text-anchor=\"start\" x=\"541\" y=\"-7.8\" font-family=\"Helvetica,sans-Serif\" font-size=\"14.00\" fill=\"#000000\">class = Lost</text>\n</g>\n<!-- 11&#45;&gt;12 -->\n<g id=\"edge12\" class=\"edge\">\n<title>11&#45;&gt;12</title>\n<path fill=\"none\" stroke=\"#000000\" d=\"M652.8059,-103.9815C643.0531,-94.607 632.7017,-84.6572 622.9586,-75.2921\"/>\n<polygon fill=\"#000000\" stroke=\"#000000\" points=\"625.2815,-72.6702 615.6465,-68.2637 620.4306,-77.7169 625.2815,-72.6702\"/>\n</g>\n<!-- 13 -->\n<g id=\"node14\" class=\"node\">\n<title>13</title>\n<path fill=\"#e88e4d\" stroke=\"#000000\" d=\"M746.5,-68C746.5,-68 663.5,-68 663.5,-68 657.5,-68 651.5,-62 651.5,-56 651.5,-56 651.5,-12 651.5,-12 651.5,-6 657.5,0 663.5,0 663.5,0 746.5,0 746.5,0 752.5,0 758.5,-6 758.5,-12 758.5,-12 758.5,-56 758.5,-56 758.5,-62 752.5,-68 746.5,-68\"/>\n<text text-anchor=\"start\" x=\"667\" y=\"-52.8\" font-family=\"Helvetica,sans-Serif\" font-size=\"14.00\" fill=\"#000000\">gini = 0.165</text>\n<text text-anchor=\"start\" x=\"661\" y=\"-37.8\" font-family=\"Helvetica,sans-Serif\" font-size=\"14.00\" fill=\"#000000\">samples = 11</text>\n<text text-anchor=\"start\" x=\"659.5\" y=\"-22.8\" font-family=\"Helvetica,sans-Serif\" font-size=\"14.00\" fill=\"#000000\">value = [10, 1]</text>\n<text text-anchor=\"start\" x=\"666\" y=\"-7.8\" font-family=\"Helvetica,sans-Serif\" font-size=\"14.00\" fill=\"#000000\">class = Lost</text>\n</g>\n<!-- 11&#45;&gt;13 -->\n<g id=\"edge13\" class=\"edge\">\n<title>11&#45;&gt;13</title>\n<path fill=\"none\" stroke=\"#000000\" d=\"M699.3513,-103.9815C700.0263,-95.618 700.7384,-86.7965 701.4209,-78.3409\"/>\n<polygon fill=\"#000000\" stroke=\"#000000\" points=\"704.9183,-78.5129 702.2343,-68.2637 697.941,-77.9496 704.9183,-78.5129\"/>\n</g>\n<!-- 15 -->\n<g id=\"node16\" class=\"node\">\n<title>15</title>\n<path fill=\"#e58139\" stroke=\"#000000\" d=\"M863.5,-68C863.5,-68 788.5,-68 788.5,-68 782.5,-68 776.5,-62 776.5,-56 776.5,-56 776.5,-12 776.5,-12 776.5,-6 782.5,0 788.5,0 788.5,0 863.5,0 863.5,0 869.5,0 875.5,-6 875.5,-12 875.5,-12 875.5,-56 875.5,-56 875.5,-62 869.5,-68 863.5,-68\"/>\n<text text-anchor=\"start\" x=\"796.5\" y=\"-52.8\" font-family=\"Helvetica,sans-Serif\" font-size=\"14.00\" fill=\"#000000\">gini = 0.0</text>\n<text text-anchor=\"start\" x=\"786.5\" y=\"-37.8\" font-family=\"Helvetica,sans-Serif\" font-size=\"14.00\" fill=\"#000000\">samples = 3</text>\n<text text-anchor=\"start\" x=\"784.5\" y=\"-22.8\" font-family=\"Helvetica,sans-Serif\" font-size=\"14.00\" fill=\"#000000\">value = [3, 0]</text>\n<text text-anchor=\"start\" x=\"787\" y=\"-7.8\" font-family=\"Helvetica,sans-Serif\" font-size=\"14.00\" fill=\"#000000\">class = Lost</text>\n</g>\n<!-- 14&#45;&gt;15 -->\n<g id=\"edge15\" class=\"edge\">\n<title>14&#45;&gt;15</title>\n<path fill=\"none\" stroke=\"#000000\" d=\"M831.6487,-103.9815C830.9737,-95.618 830.2616,-86.7965 829.5791,-78.3409\"/>\n<polygon fill=\"#000000\" stroke=\"#000000\" points=\"833.059,-77.9496 828.7657,-68.2637 826.0817,-78.5129 833.059,-77.9496\"/>\n</g>\n<!-- 16 -->\n<g id=\"node17\" class=\"node\">\n<title>16</title>\n<path fill=\"#399de5\" stroke=\"#000000\" d=\"M1004.5,-68C1004.5,-68 905.5,-68 905.5,-68 899.5,-68 893.5,-62 893.5,-56 893.5,-56 893.5,-12 893.5,-12 893.5,-6 899.5,0 905.5,0 905.5,0 1004.5,0 1004.5,0 1010.5,0 1016.5,-6 1016.5,-12 1016.5,-12 1016.5,-56 1016.5,-56 1016.5,-62 1010.5,-68 1004.5,-68\"/>\n<text text-anchor=\"start\" x=\"925.5\" y=\"-52.8\" font-family=\"Helvetica,sans-Serif\" font-size=\"14.00\" fill=\"#000000\">gini = 0.0</text>\n<text text-anchor=\"start\" x=\"915.5\" y=\"-37.8\" font-family=\"Helvetica,sans-Serif\" font-size=\"14.00\" fill=\"#000000\">samples = 1</text>\n<text text-anchor=\"start\" x=\"913.5\" y=\"-22.8\" font-family=\"Helvetica,sans-Serif\" font-size=\"14.00\" fill=\"#000000\">value = [0, 1]</text>\n<text text-anchor=\"start\" x=\"901.5\" y=\"-7.8\" font-family=\"Helvetica,sans-Serif\" font-size=\"14.00\" fill=\"#000000\">class = Survived</text>\n</g>\n<!-- 14&#45;&gt;16 -->\n<g id=\"edge16\" class=\"edge\">\n<title>14&#45;&gt;16</title>\n<path fill=\"none\" stroke=\"#000000\" d=\"M879.6836,-103.9815C889.7727,-94.607 900.481,-84.6572 910.5601,-75.2921\"/>\n<polygon fill=\"#000000\" stroke=\"#000000\" points=\"913.1809,-77.6346 918.1243,-68.2637 908.4161,-72.5065 913.1809,-77.6346\"/>\n</g>\n<!-- 18 -->\n<g id=\"node19\" class=\"node\">\n<title>18</title>\n<path fill=\"#e58139\" stroke=\"#000000\" d=\"M1207.5,-298.5C1207.5,-298.5 1132.5,-298.5 1132.5,-298.5 1126.5,-298.5 1120.5,-292.5 1120.5,-286.5 1120.5,-286.5 1120.5,-242.5 1120.5,-242.5 1120.5,-236.5 1126.5,-230.5 1132.5,-230.5 1132.5,-230.5 1207.5,-230.5 1207.5,-230.5 1213.5,-230.5 1219.5,-236.5 1219.5,-242.5 1219.5,-242.5 1219.5,-286.5 1219.5,-286.5 1219.5,-292.5 1213.5,-298.5 1207.5,-298.5\"/>\n<text text-anchor=\"start\" x=\"1140.5\" y=\"-283.3\" font-family=\"Helvetica,sans-Serif\" font-size=\"14.00\" fill=\"#000000\">gini = 0.0</text>\n<text text-anchor=\"start\" x=\"1130.5\" y=\"-268.3\" font-family=\"Helvetica,sans-Serif\" font-size=\"14.00\" fill=\"#000000\">samples = 6</text>\n<text text-anchor=\"start\" x=\"1128.5\" y=\"-253.3\" font-family=\"Helvetica,sans-Serif\" font-size=\"14.00\" fill=\"#000000\">value = [6, 0]</text>\n<text text-anchor=\"start\" x=\"1131\" y=\"-238.3\" font-family=\"Helvetica,sans-Serif\" font-size=\"14.00\" fill=\"#000000\">class = Lost</text>\n</g>\n<!-- 17&#45;&gt;18 -->\n<g id=\"edge18\" class=\"edge\">\n<title>17&#45;&gt;18</title>\n<path fill=\"none\" stroke=\"#000000\" d=\"M1210.9657,-341.8796C1205.1442,-330.8835 1198.8473,-318.9893 1192.9773,-307.9015\"/>\n<polygon fill=\"#000000\" stroke=\"#000000\" points=\"1195.9389,-306.0152 1188.1667,-298.8149 1189.7524,-309.2905 1195.9389,-306.0152\"/>\n</g>\n<!-- 19 -->\n<g id=\"node20\" class=\"node\">\n<title>19</title>\n<path fill=\"#f5d0b5\" stroke=\"#000000\" d=\"M1342,-306C1342,-306 1250,-306 1250,-306 1244,-306 1238,-300 1238,-294 1238,-294 1238,-235 1238,-235 1238,-229 1244,-223 1250,-223 1250,-223 1342,-223 1342,-223 1348,-223 1354,-229 1354,-235 1354,-235 1354,-294 1354,-294 1354,-300 1348,-306 1342,-306\"/>\n<text text-anchor=\"start\" x=\"1265\" y=\"-290.8\" font-family=\"Helvetica,sans-Serif\" font-size=\"14.00\" fill=\"#000000\">Age ≤ 2.5</text>\n<text text-anchor=\"start\" x=\"1258\" y=\"-275.8\" font-family=\"Helvetica,sans-Serif\" font-size=\"14.00\" fill=\"#000000\">gini = 0.474</text>\n<text text-anchor=\"start\" x=\"1252\" y=\"-260.8\" font-family=\"Helvetica,sans-Serif\" font-size=\"14.00\" fill=\"#000000\">samples = 70</text>\n<text text-anchor=\"start\" x=\"1246\" y=\"-245.8\" font-family=\"Helvetica,sans-Serif\" font-size=\"14.00\" fill=\"#000000\">value = [43, 27]</text>\n<text text-anchor=\"start\" x=\"1257\" y=\"-230.8\" font-family=\"Helvetica,sans-Serif\" font-size=\"14.00\" fill=\"#000000\">class = Lost</text>\n</g>\n<!-- 17&#45;&gt;19 -->\n<g id=\"edge19\" class=\"edge\">\n<title>17&#45;&gt;19</title>\n<path fill=\"none\" stroke=\"#000000\" d=\"M1255.0343,-341.8796C1259.564,-333.3236 1264.3815,-324.2238 1269.0618,-315.3833\"/>\n<polygon fill=\"#000000\" stroke=\"#000000\" points=\"1272.2859,-316.7736 1273.8716,-306.2981 1266.0994,-313.4983 1272.2859,-316.7736\"/>\n</g>\n<!-- 20 -->\n<g id=\"node21\" class=\"node\">\n<title>20</title>\n<path fill=\"#f9e3d4\" stroke=\"#000000\" d=\"M1277,-187C1277,-187 1185,-187 1185,-187 1179,-187 1173,-181 1173,-175 1173,-175 1173,-116 1173,-116 1173,-110 1179,-104 1185,-104 1185,-104 1277,-104 1277,-104 1283,-104 1289,-110 1289,-116 1289,-116 1289,-175 1289,-175 1289,-181 1283,-187 1277,-187\"/>\n<text text-anchor=\"start\" x=\"1191.5\" y=\"-171.8\" font-family=\"Helvetica,sans-Serif\" font-size=\"14.00\" fill=\"#000000\">Pclass ≤ 2.5</text>\n<text text-anchor=\"start\" x=\"1193\" y=\"-156.8\" font-family=\"Helvetica,sans-Serif\" font-size=\"14.00\" fill=\"#000000\">gini = 0.492</text>\n<text text-anchor=\"start\" x=\"1187\" y=\"-141.8\" font-family=\"Helvetica,sans-Serif\" font-size=\"14.00\" fill=\"#000000\">samples = 57</text>\n<text text-anchor=\"start\" x=\"1181\" y=\"-126.8\" font-family=\"Helvetica,sans-Serif\" font-size=\"14.00\" fill=\"#000000\">value = [32, 25]</text>\n<text text-anchor=\"start\" x=\"1192\" y=\"-111.8\" font-family=\"Helvetica,sans-Serif\" font-size=\"14.00\" fill=\"#000000\">class = Lost</text>\n</g>\n<!-- 19&#45;&gt;20 -->\n<g id=\"edge20\" class=\"edge\">\n<title>19&#45;&gt;20</title>\n<path fill=\"none\" stroke=\"#000000\" d=\"M1273.2662,-222.8796C1268.5435,-214.2335 1263.5176,-205.0322 1258.641,-196.1042\"/>\n<polygon fill=\"#000000\" stroke=\"#000000\" points=\"1261.6963,-194.3964 1253.8309,-187.2981 1255.553,-197.752 1261.6963,-194.3964\"/>\n</g>\n<!-- 23 -->\n<g id=\"node24\" class=\"node\">\n<title>23</title>\n<path fill=\"#ea985d\" stroke=\"#000000\" d=\"M1402.5,-187C1402.5,-187 1319.5,-187 1319.5,-187 1313.5,-187 1307.5,-181 1307.5,-175 1307.5,-175 1307.5,-116 1307.5,-116 1307.5,-110 1313.5,-104 1319.5,-104 1319.5,-104 1402.5,-104 1402.5,-104 1408.5,-104 1414.5,-110 1414.5,-116 1414.5,-116 1414.5,-175 1414.5,-175 1414.5,-181 1408.5,-187 1402.5,-187\"/>\n<text text-anchor=\"start\" x=\"1328\" y=\"-171.8\" font-family=\"Helvetica,sans-Serif\" font-size=\"14.00\" fill=\"#000000\">Fare ≤ 2.5</text>\n<text text-anchor=\"start\" x=\"1327.5\" y=\"-156.8\" font-family=\"Helvetica,sans-Serif\" font-size=\"14.00\" fill=\"#000000\">gini = 0.26</text>\n<text text-anchor=\"start\" x=\"1317\" y=\"-141.8\" font-family=\"Helvetica,sans-Serif\" font-size=\"14.00\" fill=\"#000000\">samples = 13</text>\n<text text-anchor=\"start\" x=\"1315.5\" y=\"-126.8\" font-family=\"Helvetica,sans-Serif\" font-size=\"14.00\" fill=\"#000000\">value = [11, 2]</text>\n<text text-anchor=\"start\" x=\"1322\" y=\"-111.8\" font-family=\"Helvetica,sans-Serif\" font-size=\"14.00\" fill=\"#000000\">class = Lost</text>\n</g>\n<!-- 19&#45;&gt;23 -->\n<g id=\"edge23\" class=\"edge\">\n<title>19&#45;&gt;23</title>\n<path fill=\"none\" stroke=\"#000000\" d=\"M1318.7338,-222.8796C1323.4565,-214.2335 1328.4824,-205.0322 1333.359,-196.1042\"/>\n<polygon fill=\"#000000\" stroke=\"#000000\" points=\"1336.447,-197.752 1338.1691,-187.2981 1330.3037,-194.3964 1336.447,-197.752\"/>\n</g>\n<!-- 21 -->\n<g id=\"node22\" class=\"node\">\n<title>21</title>\n<path fill=\"#f8e0ce\" stroke=\"#000000\" d=\"M1139,-68C1139,-68 1047,-68 1047,-68 1041,-68 1035,-62 1035,-56 1035,-56 1035,-12 1035,-12 1035,-6 1041,0 1047,0 1047,0 1139,0 1139,0 1145,0 1151,-6 1151,-12 1151,-12 1151,-56 1151,-56 1151,-62 1145,-68 1139,-68\"/>\n<text text-anchor=\"start\" x=\"1059.5\" y=\"-52.8\" font-family=\"Helvetica,sans-Serif\" font-size=\"14.00\" fill=\"#000000\">gini = 0.49</text>\n<text text-anchor=\"start\" x=\"1049\" y=\"-37.8\" font-family=\"Helvetica,sans-Serif\" font-size=\"14.00\" fill=\"#000000\">samples = 56</text>\n<text text-anchor=\"start\" x=\"1043\" y=\"-22.8\" font-family=\"Helvetica,sans-Serif\" font-size=\"14.00\" fill=\"#000000\">value = [32, 24]</text>\n<text text-anchor=\"start\" x=\"1054\" y=\"-7.8\" font-family=\"Helvetica,sans-Serif\" font-size=\"14.00\" fill=\"#000000\">class = Lost</text>\n</g>\n<!-- 20&#45;&gt;21 -->\n<g id=\"edge21\" class=\"edge\">\n<title>20&#45;&gt;21</title>\n<path fill=\"none\" stroke=\"#000000\" d=\"M1179.6139,-103.9815C1167.7839,-94.4232 1155.2136,-84.2668 1143.4249,-74.7419\"/>\n<polygon fill=\"#000000\" stroke=\"#000000\" points=\"1145.3851,-71.826 1135.4071,-68.2637 1140.9858,-77.2708 1145.3851,-71.826\"/>\n</g>\n<!-- 22 -->\n<g id=\"node23\" class=\"node\">\n<title>22</title>\n<path fill=\"#399de5\" stroke=\"#000000\" d=\"M1280.5,-68C1280.5,-68 1181.5,-68 1181.5,-68 1175.5,-68 1169.5,-62 1169.5,-56 1169.5,-56 1169.5,-12 1169.5,-12 1169.5,-6 1175.5,0 1181.5,0 1181.5,0 1280.5,0 1280.5,0 1286.5,0 1292.5,-6 1292.5,-12 1292.5,-12 1292.5,-56 1292.5,-56 1292.5,-62 1286.5,-68 1280.5,-68\"/>\n<text text-anchor=\"start\" x=\"1201.5\" y=\"-52.8\" font-family=\"Helvetica,sans-Serif\" font-size=\"14.00\" fill=\"#000000\">gini = 0.0</text>\n<text text-anchor=\"start\" x=\"1191.5\" y=\"-37.8\" font-family=\"Helvetica,sans-Serif\" font-size=\"14.00\" fill=\"#000000\">samples = 1</text>\n<text text-anchor=\"start\" x=\"1189.5\" y=\"-22.8\" font-family=\"Helvetica,sans-Serif\" font-size=\"14.00\" fill=\"#000000\">value = [0, 1]</text>\n<text text-anchor=\"start\" x=\"1177.5\" y=\"-7.8\" font-family=\"Helvetica,sans-Serif\" font-size=\"14.00\" fill=\"#000000\">class = Survived</text>\n</g>\n<!-- 20&#45;&gt;22 -->\n<g id=\"edge22\" class=\"edge\">\n<title>20&#45;&gt;22</title>\n<path fill=\"none\" stroke=\"#000000\" d=\"M1231,-103.9815C1231,-95.618 1231,-86.7965 1231,-78.3409\"/>\n<polygon fill=\"#000000\" stroke=\"#000000\" points=\"1234.5001,-78.2636 1231,-68.2637 1227.5001,-78.2637 1234.5001,-78.2636\"/>\n</g>\n<!-- 24 -->\n<g id=\"node25\" class=\"node\">\n<title>24</title>\n<path fill=\"#f2c09c\" stroke=\"#000000\" d=\"M1397.5,-68C1397.5,-68 1322.5,-68 1322.5,-68 1316.5,-68 1310.5,-62 1310.5,-56 1310.5,-56 1310.5,-12 1310.5,-12 1310.5,-6 1316.5,0 1322.5,0 1322.5,0 1397.5,0 1397.5,0 1403.5,0 1409.5,-6 1409.5,-12 1409.5,-12 1409.5,-56 1409.5,-56 1409.5,-62 1403.5,-68 1397.5,-68\"/>\n<text text-anchor=\"start\" x=\"1322\" y=\"-52.8\" font-family=\"Helvetica,sans-Serif\" font-size=\"14.00\" fill=\"#000000\">gini = 0.444</text>\n<text text-anchor=\"start\" x=\"1320.5\" y=\"-37.8\" font-family=\"Helvetica,sans-Serif\" font-size=\"14.00\" fill=\"#000000\">samples = 3</text>\n<text text-anchor=\"start\" x=\"1318.5\" y=\"-22.8\" font-family=\"Helvetica,sans-Serif\" font-size=\"14.00\" fill=\"#000000\">value = [2, 1]</text>\n<text text-anchor=\"start\" x=\"1321\" y=\"-7.8\" font-family=\"Helvetica,sans-Serif\" font-size=\"14.00\" fill=\"#000000\">class = Lost</text>\n</g>\n<!-- 23&#45;&gt;24 -->\n<g id=\"edge24\" class=\"edge\">\n<title>23&#45;&gt;24</title>\n<path fill=\"none\" stroke=\"#000000\" d=\"M1360.6276,-103.9815C1360.5526,-95.618 1360.4735,-86.7965 1360.3977,-78.3409\"/>\n<polygon fill=\"#000000\" stroke=\"#000000\" points=\"1363.8969,-78.2318 1360.3073,-68.2637 1356.8972,-78.2947 1363.8969,-78.2318\"/>\n</g>\n<!-- 25 -->\n<g id=\"node26\" class=\"node\">\n<title>25</title>\n<path fill=\"#e88f4f\" stroke=\"#000000\" d=\"M1520,-68C1520,-68 1440,-68 1440,-68 1434,-68 1428,-62 1428,-56 1428,-56 1428,-12 1428,-12 1428,-6 1434,0 1440,0 1440,0 1520,0 1520,0 1526,0 1532,-6 1532,-12 1532,-12 1532,-56 1532,-56 1532,-62 1526,-68 1520,-68\"/>\n<text text-anchor=\"start\" x=\"1446.5\" y=\"-52.8\" font-family=\"Helvetica,sans-Serif\" font-size=\"14.00\" fill=\"#000000\">gini = 0.18</text>\n<text text-anchor=\"start\" x=\"1436\" y=\"-37.8\" font-family=\"Helvetica,sans-Serif\" font-size=\"14.00\" fill=\"#000000\">samples = 10</text>\n<text text-anchor=\"start\" x=\"1438.5\" y=\"-22.8\" font-family=\"Helvetica,sans-Serif\" font-size=\"14.00\" fill=\"#000000\">value = [9, 1]</text>\n<text text-anchor=\"start\" x=\"1441\" y=\"-7.8\" font-family=\"Helvetica,sans-Serif\" font-size=\"14.00\" fill=\"#000000\">class = Lost</text>\n</g>\n<!-- 23&#45;&gt;25 -->\n<g id=\"edge25\" class=\"edge\">\n<title>23&#45;&gt;25</title>\n<path fill=\"none\" stroke=\"#000000\" d=\"M1405.3112,-103.9815C1415.3163,-94.607 1425.9354,-84.6572 1435.9304,-75.2921\"/>\n<polygon fill=\"#000000\" stroke=\"#000000\" points=\"1438.5274,-77.6551 1443.4316,-68.2637 1433.7412,-72.547 1438.5274,-77.6551\"/>\n</g>\n<!-- 27 -->\n<g id=\"node28\" class=\"node\">\n<title>27</title>\n<path fill=\"#4ca6e7\" stroke=\"#000000\" d=\"M1873,-425C1873,-425 1773,-425 1773,-425 1767,-425 1761,-419 1761,-413 1761,-413 1761,-354 1761,-354 1761,-348 1767,-342 1773,-342 1773,-342 1873,-342 1873,-342 1879,-342 1885,-348 1885,-354 1885,-354 1885,-413 1885,-413 1885,-419 1879,-425 1873,-425\"/>\n<text text-anchor=\"start\" x=\"1792.5\" y=\"-409.8\" font-family=\"Helvetica,sans-Serif\" font-size=\"14.00\" fill=\"#000000\">Sex ≤ 0.5</text>\n<text text-anchor=\"start\" x=\"1785\" y=\"-394.8\" font-family=\"Helvetica,sans-Serif\" font-size=\"14.00\" fill=\"#000000\">gini = 0.159</text>\n<text text-anchor=\"start\" x=\"1775\" y=\"-379.8\" font-family=\"Helvetica,sans-Serif\" font-size=\"14.00\" fill=\"#000000\">samples = 149</text>\n<text text-anchor=\"start\" x=\"1769\" y=\"-364.8\" font-family=\"Helvetica,sans-Serif\" font-size=\"14.00\" fill=\"#000000\">value = [13, 136]</text>\n<text text-anchor=\"start\" x=\"1769.5\" y=\"-349.8\" font-family=\"Helvetica,sans-Serif\" font-size=\"14.00\" fill=\"#000000\">class = Survived</text>\n</g>\n<!-- 26&#45;&gt;27 -->\n<g id=\"edge27\" class=\"edge\">\n<title>26&#45;&gt;27</title>\n<path fill=\"none\" stroke=\"#000000\" d=\"M1823,-460.8796C1823,-452.6838 1823,-443.9891 1823,-435.5013\"/>\n<polygon fill=\"#000000\" stroke=\"#000000\" points=\"1826.5001,-435.298 1823,-425.2981 1819.5001,-435.2981 1826.5001,-435.298\"/>\n</g>\n<!-- 38 -->\n<g id=\"node39\" class=\"node\">\n<title>38</title>\n<path fill=\"#fdf3ed\" stroke=\"#000000\" d=\"M2425.5,-425C2425.5,-425 2326.5,-425 2326.5,-425 2320.5,-425 2314.5,-419 2314.5,-413 2314.5,-413 2314.5,-354 2314.5,-354 2314.5,-348 2320.5,-342 2326.5,-342 2326.5,-342 2425.5,-342 2425.5,-342 2431.5,-342 2437.5,-348 2437.5,-354 2437.5,-354 2437.5,-413 2437.5,-413 2437.5,-419 2431.5,-425 2425.5,-425\"/>\n<text text-anchor=\"start\" x=\"2322.5\" y=\"-409.8\" font-family=\"Helvetica,sans-Serif\" font-size=\"14.00\" fill=\"#000000\">FamilySize ≤ 4.5</text>\n<text text-anchor=\"start\" x=\"2338\" y=\"-394.8\" font-family=\"Helvetica,sans-Serif\" font-size=\"14.00\" fill=\"#000000\">gini = 0.499</text>\n<text text-anchor=\"start\" x=\"2328\" y=\"-379.8\" font-family=\"Helvetica,sans-Serif\" font-size=\"14.00\" fill=\"#000000\">samples = 143</text>\n<text text-anchor=\"start\" x=\"2326\" y=\"-364.8\" font-family=\"Helvetica,sans-Serif\" font-size=\"14.00\" fill=\"#000000\">value = [75, 68]</text>\n<text text-anchor=\"start\" x=\"2337\" y=\"-349.8\" font-family=\"Helvetica,sans-Serif\" font-size=\"14.00\" fill=\"#000000\">class = Lost</text>\n</g>\n<!-- 26&#45;&gt;38 -->\n<g id=\"edge38\" class=\"edge\">\n<title>26&#45;&gt;38</title>\n<path fill=\"none\" stroke=\"#000000\" d=\"M1885.0936,-489.1381C1988.3829,-466.9113 2194.9242,-422.4657 2304.2687,-398.9358\"/>\n<polygon fill=\"#000000\" stroke=\"#000000\" points=\"2305.1793,-402.3201 2314.2192,-396.7946 2303.7066,-395.4768 2305.1793,-402.3201\"/>\n</g>\n<!-- 28 -->\n<g id=\"node29\" class=\"node\">\n<title>28</title>\n<path fill=\"#44a2e6\" stroke=\"#000000\" d=\"M1802.5,-306C1802.5,-306 1703.5,-306 1703.5,-306 1697.5,-306 1691.5,-300 1691.5,-294 1691.5,-294 1691.5,-235 1691.5,-235 1691.5,-229 1697.5,-223 1703.5,-223 1703.5,-223 1802.5,-223 1802.5,-223 1808.5,-223 1814.5,-229 1814.5,-235 1814.5,-235 1814.5,-294 1814.5,-294 1814.5,-300 1808.5,-306 1802.5,-306\"/>\n<text text-anchor=\"start\" x=\"1701.5\" y=\"-290.8\" font-family=\"Helvetica,sans-Serif\" font-size=\"14.00\" fill=\"#000000\">Embarked ≤ 0.5</text>\n<text text-anchor=\"start\" x=\"1723.5\" y=\"-275.8\" font-family=\"Helvetica,sans-Serif\" font-size=\"14.00\" fill=\"#000000\">gini = 0.1</text>\n<text text-anchor=\"start\" x=\"1705\" y=\"-260.8\" font-family=\"Helvetica,sans-Serif\" font-size=\"14.00\" fill=\"#000000\">samples = 133</text>\n<text text-anchor=\"start\" x=\"1703\" y=\"-245.8\" font-family=\"Helvetica,sans-Serif\" font-size=\"14.00\" fill=\"#000000\">value = [7, 126]</text>\n<text text-anchor=\"start\" x=\"1699.5\" y=\"-230.8\" font-family=\"Helvetica,sans-Serif\" font-size=\"14.00\" fill=\"#000000\">class = Survived</text>\n</g>\n<!-- 27&#45;&gt;28 -->\n<g id=\"edge28\" class=\"edge\">\n<title>27&#45;&gt;28</title>\n<path fill=\"none\" stroke=\"#000000\" d=\"M1798.5174,-341.8796C1793.4315,-333.2335 1788.0189,-324.0322 1782.7672,-315.1042\"/>\n<polygon fill=\"#000000\" stroke=\"#000000\" points=\"1785.6741,-313.1428 1777.5871,-306.2981 1779.6406,-316.692 1785.6741,-313.1428\"/>\n</g>\n<!-- 33 -->\n<g id=\"node34\" class=\"node\">\n<title>33</title>\n<path fill=\"#b0d8f5\" stroke=\"#000000\" d=\"M1943.5,-306C1943.5,-306 1844.5,-306 1844.5,-306 1838.5,-306 1832.5,-300 1832.5,-294 1832.5,-294 1832.5,-235 1832.5,-235 1832.5,-229 1838.5,-223 1844.5,-223 1844.5,-223 1943.5,-223 1943.5,-223 1949.5,-223 1955.5,-229 1955.5,-235 1955.5,-235 1955.5,-294 1955.5,-294 1955.5,-300 1949.5,-306 1943.5,-306\"/>\n<text text-anchor=\"start\" x=\"1863\" y=\"-290.8\" font-family=\"Helvetica,sans-Serif\" font-size=\"14.00\" fill=\"#000000\">Age ≤ 1.5</text>\n<text text-anchor=\"start\" x=\"1856\" y=\"-275.8\" font-family=\"Helvetica,sans-Serif\" font-size=\"14.00\" fill=\"#000000\">gini = 0.469</text>\n<text text-anchor=\"start\" x=\"1850\" y=\"-260.8\" font-family=\"Helvetica,sans-Serif\" font-size=\"14.00\" fill=\"#000000\">samples = 16</text>\n<text text-anchor=\"start\" x=\"1848.5\" y=\"-245.8\" font-family=\"Helvetica,sans-Serif\" font-size=\"14.00\" fill=\"#000000\">value = [6, 10]</text>\n<text text-anchor=\"start\" x=\"1840.5\" y=\"-230.8\" font-family=\"Helvetica,sans-Serif\" font-size=\"14.00\" fill=\"#000000\">class = Survived</text>\n</g>\n<!-- 27&#45;&gt;33 -->\n<g id=\"edge33\" class=\"edge\">\n<title>27&#45;&gt;33</title>\n<path fill=\"none\" stroke=\"#000000\" d=\"M1847.8324,-341.8796C1852.9909,-333.2335 1858.4808,-324.0322 1863.8076,-315.1042\"/>\n<polygon fill=\"#000000\" stroke=\"#000000\" points=\"1866.9436,-316.679 1869.0617,-306.2981 1860.9322,-313.0924 1866.9436,-316.679\"/>\n</g>\n<!-- 29 -->\n<g id=\"node30\" class=\"node\">\n<title>29</title>\n<path fill=\"#49a5e7\" stroke=\"#000000\" d=\"M1661.5,-187C1661.5,-187 1562.5,-187 1562.5,-187 1556.5,-187 1550.5,-181 1550.5,-175 1550.5,-175 1550.5,-116 1550.5,-116 1550.5,-110 1556.5,-104 1562.5,-104 1562.5,-104 1661.5,-104 1661.5,-104 1667.5,-104 1673.5,-110 1673.5,-116 1673.5,-116 1673.5,-175 1673.5,-175 1673.5,-181 1667.5,-187 1661.5,-187\"/>\n<text text-anchor=\"start\" x=\"1558.5\" y=\"-171.8\" font-family=\"Helvetica,sans-Serif\" font-size=\"14.00\" fill=\"#000000\">FamilySize ≤ 3.5</text>\n<text text-anchor=\"start\" x=\"1574\" y=\"-156.8\" font-family=\"Helvetica,sans-Serif\" font-size=\"14.00\" fill=\"#000000\">gini = 0.138</text>\n<text text-anchor=\"start\" x=\"1568\" y=\"-141.8\" font-family=\"Helvetica,sans-Serif\" font-size=\"14.00\" fill=\"#000000\">samples = 94</text>\n<text text-anchor=\"start\" x=\"1566.5\" y=\"-126.8\" font-family=\"Helvetica,sans-Serif\" font-size=\"14.00\" fill=\"#000000\">value = [7, 87]</text>\n<text text-anchor=\"start\" x=\"1558.5\" y=\"-111.8\" font-family=\"Helvetica,sans-Serif\" font-size=\"14.00\" fill=\"#000000\">class = Survived</text>\n</g>\n<!-- 28&#45;&gt;29 -->\n<g id=\"edge29\" class=\"edge\">\n<title>28&#45;&gt;29</title>\n<path fill=\"none\" stroke=\"#000000\" d=\"M1703.685,-222.8796C1692.5868,-213.513 1680.7165,-203.4948 1669.3223,-193.8784\"/>\n<polygon fill=\"#000000\" stroke=\"#000000\" points=\"1671.425,-191.0731 1661.5254,-187.2981 1666.9101,-196.4225 1671.425,-191.0731\"/>\n</g>\n<!-- 32 -->\n<g id=\"node33\" class=\"node\">\n<title>32</title>\n<path fill=\"#399de5\" stroke=\"#000000\" d=\"M1802.5,-179.5C1802.5,-179.5 1703.5,-179.5 1703.5,-179.5 1697.5,-179.5 1691.5,-173.5 1691.5,-167.5 1691.5,-167.5 1691.5,-123.5 1691.5,-123.5 1691.5,-117.5 1697.5,-111.5 1703.5,-111.5 1703.5,-111.5 1802.5,-111.5 1802.5,-111.5 1808.5,-111.5 1814.5,-117.5 1814.5,-123.5 1814.5,-123.5 1814.5,-167.5 1814.5,-167.5 1814.5,-173.5 1808.5,-179.5 1802.5,-179.5\"/>\n<text text-anchor=\"start\" x=\"1723.5\" y=\"-164.3\" font-family=\"Helvetica,sans-Serif\" font-size=\"14.00\" fill=\"#000000\">gini = 0.0</text>\n<text text-anchor=\"start\" x=\"1709\" y=\"-149.3\" font-family=\"Helvetica,sans-Serif\" font-size=\"14.00\" fill=\"#000000\">samples = 39</text>\n<text text-anchor=\"start\" x=\"1707.5\" y=\"-134.3\" font-family=\"Helvetica,sans-Serif\" font-size=\"14.00\" fill=\"#000000\">value = [0, 39]</text>\n<text text-anchor=\"start\" x=\"1699.5\" y=\"-119.3\" font-family=\"Helvetica,sans-Serif\" font-size=\"14.00\" fill=\"#000000\">class = Survived</text>\n</g>\n<!-- 28&#45;&gt;32 -->\n<g id=\"edge32\" class=\"edge\">\n<title>28&#45;&gt;32</title>\n<path fill=\"none\" stroke=\"#000000\" d=\"M1753,-222.8796C1753,-212.2134 1753,-200.7021 1753,-189.9015\"/>\n<polygon fill=\"#000000\" stroke=\"#000000\" points=\"1756.5001,-189.8149 1753,-179.8149 1749.5001,-189.815 1756.5001,-189.8149\"/>\n</g>\n<!-- 30 -->\n<g id=\"node31\" class=\"node\">\n<title>30</title>\n<path fill=\"#46a3e7\" stroke=\"#000000\" d=\"M1661.5,-68C1661.5,-68 1562.5,-68 1562.5,-68 1556.5,-68 1550.5,-62 1550.5,-56 1550.5,-56 1550.5,-12 1550.5,-12 1550.5,-6 1556.5,0 1562.5,0 1562.5,0 1661.5,0 1661.5,0 1667.5,0 1673.5,-6 1673.5,-12 1673.5,-12 1673.5,-56 1673.5,-56 1673.5,-62 1667.5,-68 1661.5,-68\"/>\n<text text-anchor=\"start\" x=\"1574\" y=\"-52.8\" font-family=\"Helvetica,sans-Serif\" font-size=\"14.00\" fill=\"#000000\">gini = 0.113</text>\n<text text-anchor=\"start\" x=\"1568\" y=\"-37.8\" font-family=\"Helvetica,sans-Serif\" font-size=\"14.00\" fill=\"#000000\">samples = 83</text>\n<text text-anchor=\"start\" x=\"1566.5\" y=\"-22.8\" font-family=\"Helvetica,sans-Serif\" font-size=\"14.00\" fill=\"#000000\">value = [5, 78]</text>\n<text text-anchor=\"start\" x=\"1558.5\" y=\"-7.8\" font-family=\"Helvetica,sans-Serif\" font-size=\"14.00\" fill=\"#000000\">class = Survived</text>\n</g>\n<!-- 29&#45;&gt;30 -->\n<g id=\"edge30\" class=\"edge\">\n<title>29&#45;&gt;30</title>\n<path fill=\"none\" stroke=\"#000000\" d=\"M1612,-103.9815C1612,-95.618 1612,-86.7965 1612,-78.3409\"/>\n<polygon fill=\"#000000\" stroke=\"#000000\" points=\"1615.5001,-78.2636 1612,-68.2637 1608.5001,-78.2637 1615.5001,-78.2636\"/>\n</g>\n<!-- 31 -->\n<g id=\"node32\" class=\"node\">\n<title>31</title>\n<path fill=\"#65b3eb\" stroke=\"#000000\" d=\"M1802.5,-68C1802.5,-68 1703.5,-68 1703.5,-68 1697.5,-68 1691.5,-62 1691.5,-56 1691.5,-56 1691.5,-12 1691.5,-12 1691.5,-6 1697.5,0 1703.5,0 1703.5,0 1802.5,0 1802.5,0 1808.5,0 1814.5,-6 1814.5,-12 1814.5,-12 1814.5,-56 1814.5,-56 1814.5,-62 1808.5,-68 1802.5,-68\"/>\n<text text-anchor=\"start\" x=\"1715\" y=\"-52.8\" font-family=\"Helvetica,sans-Serif\" font-size=\"14.00\" fill=\"#000000\">gini = 0.298</text>\n<text text-anchor=\"start\" x=\"1709\" y=\"-37.8\" font-family=\"Helvetica,sans-Serif\" font-size=\"14.00\" fill=\"#000000\">samples = 11</text>\n<text text-anchor=\"start\" x=\"1711.5\" y=\"-22.8\" font-family=\"Helvetica,sans-Serif\" font-size=\"14.00\" fill=\"#000000\">value = [2, 9]</text>\n<text text-anchor=\"start\" x=\"1699.5\" y=\"-7.8\" font-family=\"Helvetica,sans-Serif\" font-size=\"14.00\" fill=\"#000000\">class = Survived</text>\n</g>\n<!-- 29&#45;&gt;31 -->\n<g id=\"edge31\" class=\"edge\">\n<title>29&#45;&gt;31</title>\n<path fill=\"none\" stroke=\"#000000\" d=\"M1664.5032,-103.9815C1676.7066,-94.3313 1689.681,-84.0714 1701.8261,-74.4673\"/>\n<polygon fill=\"#000000\" stroke=\"#000000\" points=\"1703.9982,-77.2118 1709.671,-68.2637 1699.6562,-71.7211 1703.9982,-77.2118\"/>\n</g>\n<!-- 34 -->\n<g id=\"node35\" class=\"node\">\n<title>34</title>\n<path fill=\"#399de5\" stroke=\"#000000\" d=\"M1943.5,-179.5C1943.5,-179.5 1844.5,-179.5 1844.5,-179.5 1838.5,-179.5 1832.5,-173.5 1832.5,-167.5 1832.5,-167.5 1832.5,-123.5 1832.5,-123.5 1832.5,-117.5 1838.5,-111.5 1844.5,-111.5 1844.5,-111.5 1943.5,-111.5 1943.5,-111.5 1949.5,-111.5 1955.5,-117.5 1955.5,-123.5 1955.5,-123.5 1955.5,-167.5 1955.5,-167.5 1955.5,-173.5 1949.5,-179.5 1943.5,-179.5\"/>\n<text text-anchor=\"start\" x=\"1864.5\" y=\"-164.3\" font-family=\"Helvetica,sans-Serif\" font-size=\"14.00\" fill=\"#000000\">gini = 0.0</text>\n<text text-anchor=\"start\" x=\"1854.5\" y=\"-149.3\" font-family=\"Helvetica,sans-Serif\" font-size=\"14.00\" fill=\"#000000\">samples = 6</text>\n<text text-anchor=\"start\" x=\"1852.5\" y=\"-134.3\" font-family=\"Helvetica,sans-Serif\" font-size=\"14.00\" fill=\"#000000\">value = [0, 6]</text>\n<text text-anchor=\"start\" x=\"1840.5\" y=\"-119.3\" font-family=\"Helvetica,sans-Serif\" font-size=\"14.00\" fill=\"#000000\">class = Survived</text>\n</g>\n<!-- 33&#45;&gt;34 -->\n<g id=\"edge34\" class=\"edge\">\n<title>33&#45;&gt;34</title>\n<path fill=\"none\" stroke=\"#000000\" d=\"M1894,-222.8796C1894,-212.2134 1894,-200.7021 1894,-189.9015\"/>\n<polygon fill=\"#000000\" stroke=\"#000000\" points=\"1897.5001,-189.8149 1894,-179.8149 1890.5001,-189.815 1897.5001,-189.8149\"/>\n</g>\n<!-- 35 -->\n<g id=\"node36\" class=\"node\">\n<title>35</title>\n<path fill=\"#f6d5bd\" stroke=\"#000000\" d=\"M2068.5,-187C2068.5,-187 1985.5,-187 1985.5,-187 1979.5,-187 1973.5,-181 1973.5,-175 1973.5,-175 1973.5,-116 1973.5,-116 1973.5,-110 1979.5,-104 1985.5,-104 1985.5,-104 2068.5,-104 2068.5,-104 2074.5,-104 2080.5,-110 2080.5,-116 2080.5,-116 2080.5,-175 2080.5,-175 2080.5,-181 2074.5,-187 2068.5,-187\"/>\n<text text-anchor=\"start\" x=\"1981.5\" y=\"-171.8\" font-family=\"Helvetica,sans-Serif\" font-size=\"14.00\" fill=\"#000000\">Cabin_n ≤ 0.5</text>\n<text text-anchor=\"start\" x=\"1993.5\" y=\"-156.8\" font-family=\"Helvetica,sans-Serif\" font-size=\"14.00\" fill=\"#000000\">gini = 0.48</text>\n<text text-anchor=\"start\" x=\"1983\" y=\"-141.8\" font-family=\"Helvetica,sans-Serif\" font-size=\"14.00\" fill=\"#000000\">samples = 10</text>\n<text text-anchor=\"start\" x=\"1985.5\" y=\"-126.8\" font-family=\"Helvetica,sans-Serif\" font-size=\"14.00\" fill=\"#000000\">value = [6, 4]</text>\n<text text-anchor=\"start\" x=\"1988\" y=\"-111.8\" font-family=\"Helvetica,sans-Serif\" font-size=\"14.00\" fill=\"#000000\">class = Lost</text>\n</g>\n<!-- 33&#45;&gt;35 -->\n<g id=\"edge35\" class=\"edge\">\n<title>33&#45;&gt;35</title>\n<path fill=\"none\" stroke=\"#000000\" d=\"M1940.5169,-222.8796C1950.8848,-213.6031 1961.9671,-203.6874 1972.6199,-194.1559\"/>\n<polygon fill=\"#000000\" stroke=\"#000000\" points=\"1975.1659,-196.5744 1980.2845,-187.2981 1970.4983,-191.3577 1975.1659,-196.5744\"/>\n</g>\n<!-- 36 -->\n<g id=\"node37\" class=\"node\">\n<title>36</title>\n<path fill=\"#e58139\" stroke=\"#000000\" d=\"M1935.5,-68C1935.5,-68 1860.5,-68 1860.5,-68 1854.5,-68 1848.5,-62 1848.5,-56 1848.5,-56 1848.5,-12 1848.5,-12 1848.5,-6 1854.5,0 1860.5,0 1860.5,0 1935.5,0 1935.5,0 1941.5,0 1947.5,-6 1947.5,-12 1947.5,-12 1947.5,-56 1947.5,-56 1947.5,-62 1941.5,-68 1935.5,-68\"/>\n<text text-anchor=\"start\" x=\"1868.5\" y=\"-52.8\" font-family=\"Helvetica,sans-Serif\" font-size=\"14.00\" fill=\"#000000\">gini = 0.0</text>\n<text text-anchor=\"start\" x=\"1858.5\" y=\"-37.8\" font-family=\"Helvetica,sans-Serif\" font-size=\"14.00\" fill=\"#000000\">samples = 4</text>\n<text text-anchor=\"start\" x=\"1856.5\" y=\"-22.8\" font-family=\"Helvetica,sans-Serif\" font-size=\"14.00\" fill=\"#000000\">value = [4, 0]</text>\n<text text-anchor=\"start\" x=\"1859\" y=\"-7.8\" font-family=\"Helvetica,sans-Serif\" font-size=\"14.00\" fill=\"#000000\">class = Lost</text>\n</g>\n<!-- 35&#45;&gt;36 -->\n<g id=\"edge36\" class=\"edge\">\n<title>35&#45;&gt;36</title>\n<path fill=\"none\" stroke=\"#000000\" d=\"M1978.9652,-103.9815C1968.013,-94.5151 1956.3821,-84.462 1945.4544,-75.0168\"/>\n<polygon fill=\"#000000\" stroke=\"#000000\" points=\"1947.4957,-72.155 1937.6414,-68.2637 1942.9182,-77.4509 1947.4957,-72.155\"/>\n</g>\n<!-- 37 -->\n<g id=\"node38\" class=\"node\">\n<title>37</title>\n<path fill=\"#9ccef2\" stroke=\"#000000\" d=\"M2076.5,-68C2076.5,-68 1977.5,-68 1977.5,-68 1971.5,-68 1965.5,-62 1965.5,-56 1965.5,-56 1965.5,-12 1965.5,-12 1965.5,-6 1971.5,0 1977.5,0 1977.5,0 2076.5,0 2076.5,0 2082.5,0 2088.5,-6 2088.5,-12 2088.5,-12 2088.5,-56 2088.5,-56 2088.5,-62 2082.5,-68 2076.5,-68\"/>\n<text text-anchor=\"start\" x=\"1989\" y=\"-52.8\" font-family=\"Helvetica,sans-Serif\" font-size=\"14.00\" fill=\"#000000\">gini = 0.444</text>\n<text text-anchor=\"start\" x=\"1987.5\" y=\"-37.8\" font-family=\"Helvetica,sans-Serif\" font-size=\"14.00\" fill=\"#000000\">samples = 6</text>\n<text text-anchor=\"start\" x=\"1985.5\" y=\"-22.8\" font-family=\"Helvetica,sans-Serif\" font-size=\"14.00\" fill=\"#000000\">value = [2, 4]</text>\n<text text-anchor=\"start\" x=\"1973.5\" y=\"-7.8\" font-family=\"Helvetica,sans-Serif\" font-size=\"14.00\" fill=\"#000000\">class = Survived</text>\n</g>\n<!-- 35&#45;&gt;37 -->\n<g id=\"edge37\" class=\"edge\">\n<title>35&#45;&gt;37</title>\n<path fill=\"none\" stroke=\"#000000\" d=\"M2027,-103.9815C2027,-95.618 2027,-86.7965 2027,-78.3409\"/>\n<polygon fill=\"#000000\" stroke=\"#000000\" points=\"2030.5001,-78.2636 2027,-68.2637 2023.5001,-78.2637 2030.5001,-78.2636\"/>\n</g>\n<!-- 39 -->\n<g id=\"node40\" class=\"node\">\n<title>39</title>\n<path fill=\"#b5daf5\" stroke=\"#000000\" d=\"M2425.5,-306C2425.5,-306 2326.5,-306 2326.5,-306 2320.5,-306 2314.5,-300 2314.5,-294 2314.5,-294 2314.5,-235 2314.5,-235 2314.5,-229 2320.5,-223 2326.5,-223 2326.5,-223 2425.5,-223 2425.5,-223 2431.5,-223 2437.5,-229 2437.5,-235 2437.5,-235 2437.5,-294 2437.5,-294 2437.5,-300 2431.5,-306 2425.5,-306\"/>\n<text text-anchor=\"start\" x=\"2345\" y=\"-290.8\" font-family=\"Helvetica,sans-Serif\" font-size=\"14.00\" fill=\"#000000\">Age ≤ 1.5</text>\n<text text-anchor=\"start\" x=\"2338\" y=\"-275.8\" font-family=\"Helvetica,sans-Serif\" font-size=\"14.00\" fill=\"#000000\">gini = 0.473</text>\n<text text-anchor=\"start\" x=\"2328\" y=\"-260.8\" font-family=\"Helvetica,sans-Serif\" font-size=\"14.00\" fill=\"#000000\">samples = 104</text>\n<text text-anchor=\"start\" x=\"2326\" y=\"-245.8\" font-family=\"Helvetica,sans-Serif\" font-size=\"14.00\" fill=\"#000000\">value = [40, 64]</text>\n<text text-anchor=\"start\" x=\"2322.5\" y=\"-230.8\" font-family=\"Helvetica,sans-Serif\" font-size=\"14.00\" fill=\"#000000\">class = Survived</text>\n</g>\n<!-- 38&#45;&gt;39 -->\n<g id=\"edge39\" class=\"edge\">\n<title>38&#45;&gt;39</title>\n<path fill=\"none\" stroke=\"#000000\" d=\"M2376,-341.8796C2376,-333.6838 2376,-324.9891 2376,-316.5013\"/>\n<polygon fill=\"#000000\" stroke=\"#000000\" points=\"2379.5001,-316.298 2376,-306.2981 2372.5001,-316.2981 2379.5001,-316.298\"/>\n</g>\n<!-- 46 -->\n<g id=\"node47\" class=\"node\">\n<title>46</title>\n<path fill=\"#e88f50\" stroke=\"#000000\" d=\"M2629.5,-306C2629.5,-306 2546.5,-306 2546.5,-306 2540.5,-306 2534.5,-300 2534.5,-294 2534.5,-294 2534.5,-235 2534.5,-235 2534.5,-229 2540.5,-223 2546.5,-223 2546.5,-223 2629.5,-223 2629.5,-223 2635.5,-223 2641.5,-229 2641.5,-235 2641.5,-235 2641.5,-294 2641.5,-294 2641.5,-300 2635.5,-306 2629.5,-306\"/>\n<text text-anchor=\"start\" x=\"2555\" y=\"-290.8\" font-family=\"Helvetica,sans-Serif\" font-size=\"14.00\" fill=\"#000000\">Fare ≤ 1.5</text>\n<text text-anchor=\"start\" x=\"2550\" y=\"-275.8\" font-family=\"Helvetica,sans-Serif\" font-size=\"14.00\" fill=\"#000000\">gini = 0.184</text>\n<text text-anchor=\"start\" x=\"2544\" y=\"-260.8\" font-family=\"Helvetica,sans-Serif\" font-size=\"14.00\" fill=\"#000000\">samples = 39</text>\n<text text-anchor=\"start\" x=\"2542.5\" y=\"-245.8\" font-family=\"Helvetica,sans-Serif\" font-size=\"14.00\" fill=\"#000000\">value = [35, 4]</text>\n<text text-anchor=\"start\" x=\"2549\" y=\"-230.8\" font-family=\"Helvetica,sans-Serif\" font-size=\"14.00\" fill=\"#000000\">class = Lost</text>\n</g>\n<!-- 38&#45;&gt;46 -->\n<g id=\"edge46\" class=\"edge\">\n<title>38&#45;&gt;46</title>\n<path fill=\"none\" stroke=\"#000000\" d=\"M2437.604,-348.9204C2465.1825,-333.44 2497.6548,-315.2126 2525.3548,-299.6641\"/>\n<polygon fill=\"#000000\" stroke=\"#000000\" points=\"2527.1614,-302.6637 2534.1683,-294.7168 2523.735,-296.5596 2527.1614,-302.6637\"/>\n</g>\n<!-- 40 -->\n<g id=\"node41\" class=\"node\">\n<title>40</title>\n<path fill=\"#73baed\" stroke=\"#000000\" d=\"M2355.5,-187C2355.5,-187 2256.5,-187 2256.5,-187 2250.5,-187 2244.5,-181 2244.5,-175 2244.5,-175 2244.5,-116 2244.5,-116 2244.5,-110 2250.5,-104 2256.5,-104 2256.5,-104 2355.5,-104 2355.5,-104 2361.5,-104 2367.5,-110 2367.5,-116 2367.5,-116 2367.5,-175 2367.5,-175 2367.5,-181 2361.5,-187 2355.5,-187\"/>\n<text text-anchor=\"start\" x=\"2275\" y=\"-171.8\" font-family=\"Helvetica,sans-Serif\" font-size=\"14.00\" fill=\"#000000\">Title ≤ 1.5</text>\n<text text-anchor=\"start\" x=\"2268\" y=\"-156.8\" font-family=\"Helvetica,sans-Serif\" font-size=\"14.00\" fill=\"#000000\">gini = 0.351</text>\n<text text-anchor=\"start\" x=\"2262\" y=\"-141.8\" font-family=\"Helvetica,sans-Serif\" font-size=\"14.00\" fill=\"#000000\">samples = 44</text>\n<text text-anchor=\"start\" x=\"2256\" y=\"-126.8\" font-family=\"Helvetica,sans-Serif\" font-size=\"14.00\" fill=\"#000000\">value = [10, 34]</text>\n<text text-anchor=\"start\" x=\"2252.5\" y=\"-111.8\" font-family=\"Helvetica,sans-Serif\" font-size=\"14.00\" fill=\"#000000\">class = Survived</text>\n</g>\n<!-- 39&#45;&gt;40 -->\n<g id=\"edge40\" class=\"edge\">\n<title>39&#45;&gt;40</title>\n<path fill=\"none\" stroke=\"#000000\" d=\"M2351.5174,-222.8796C2346.4315,-214.2335 2341.0189,-205.0322 2335.7672,-196.1042\"/>\n<polygon fill=\"#000000\" stroke=\"#000000\" points=\"2338.6741,-194.1428 2330.5871,-187.2981 2332.6406,-197.692 2338.6741,-194.1428\"/>\n</g>\n<!-- 43 -->\n<g id=\"node44\" class=\"node\">\n<title>43</title>\n<path fill=\"#ffffff\" stroke=\"#000000\" d=\"M2496.5,-187C2496.5,-187 2397.5,-187 2397.5,-187 2391.5,-187 2385.5,-181 2385.5,-175 2385.5,-175 2385.5,-116 2385.5,-116 2385.5,-110 2391.5,-104 2397.5,-104 2397.5,-104 2496.5,-104 2496.5,-104 2502.5,-104 2508.5,-110 2508.5,-116 2508.5,-116 2508.5,-175 2508.5,-175 2508.5,-181 2502.5,-187 2496.5,-187\"/>\n<text text-anchor=\"start\" x=\"2393.5\" y=\"-171.8\" font-family=\"Helvetica,sans-Serif\" font-size=\"14.00\" fill=\"#000000\">FamilySize ≤ 3.5</text>\n<text text-anchor=\"start\" x=\"2417.5\" y=\"-156.8\" font-family=\"Helvetica,sans-Serif\" font-size=\"14.00\" fill=\"#000000\">gini = 0.5</text>\n<text text-anchor=\"start\" x=\"2403\" y=\"-141.8\" font-family=\"Helvetica,sans-Serif\" font-size=\"14.00\" fill=\"#000000\">samples = 60</text>\n<text text-anchor=\"start\" x=\"2397\" y=\"-126.8\" font-family=\"Helvetica,sans-Serif\" font-size=\"14.00\" fill=\"#000000\">value = [30, 30]</text>\n<text text-anchor=\"start\" x=\"2408\" y=\"-111.8\" font-family=\"Helvetica,sans-Serif\" font-size=\"14.00\" fill=\"#000000\">class = Lost</text>\n</g>\n<!-- 39&#45;&gt;43 -->\n<g id=\"edge43\" class=\"edge\">\n<title>39&#45;&gt;43</title>\n<path fill=\"none\" stroke=\"#000000\" d=\"M2400.8324,-222.8796C2405.9909,-214.2335 2411.4808,-205.0322 2416.8076,-196.1042\"/>\n<polygon fill=\"#000000\" stroke=\"#000000\" points=\"2419.9436,-197.679 2422.0617,-187.2981 2413.9322,-194.0924 2419.9436,-197.679\"/>\n</g>\n<!-- 41 -->\n<g id=\"node42\" class=\"node\">\n<title>41</title>\n<path fill=\"#399de5\" stroke=\"#000000\" d=\"M2217.5,-68C2217.5,-68 2118.5,-68 2118.5,-68 2112.5,-68 2106.5,-62 2106.5,-56 2106.5,-56 2106.5,-12 2106.5,-12 2106.5,-6 2112.5,0 2118.5,0 2118.5,0 2217.5,0 2217.5,0 2223.5,0 2229.5,-6 2229.5,-12 2229.5,-12 2229.5,-56 2229.5,-56 2229.5,-62 2223.5,-68 2217.5,-68\"/>\n<text text-anchor=\"start\" x=\"2138.5\" y=\"-52.8\" font-family=\"Helvetica,sans-Serif\" font-size=\"14.00\" fill=\"#000000\">gini = 0.0</text>\n<text text-anchor=\"start\" x=\"2128.5\" y=\"-37.8\" font-family=\"Helvetica,sans-Serif\" font-size=\"14.00\" fill=\"#000000\">samples = 8</text>\n<text text-anchor=\"start\" x=\"2126.5\" y=\"-22.8\" font-family=\"Helvetica,sans-Serif\" font-size=\"14.00\" fill=\"#000000\">value = [0, 8]</text>\n<text text-anchor=\"start\" x=\"2114.5\" y=\"-7.8\" font-family=\"Helvetica,sans-Serif\" font-size=\"14.00\" fill=\"#000000\">class = Survived</text>\n</g>\n<!-- 40&#45;&gt;41 -->\n<g id=\"edge41\" class=\"edge\">\n<title>40&#45;&gt;41</title>\n<path fill=\"none\" stroke=\"#000000\" d=\"M2254.6139,-103.9815C2242.7839,-94.4232 2230.2136,-84.2668 2218.4249,-74.7419\"/>\n<polygon fill=\"#000000\" stroke=\"#000000\" points=\"2220.3851,-71.826 2210.4071,-68.2637 2215.9858,-77.2708 2220.3851,-71.826\"/>\n</g>\n<!-- 42 -->\n<g id=\"node43\" class=\"node\">\n<title>42</title>\n<path fill=\"#85c3ef\" stroke=\"#000000\" d=\"M2358.5,-68C2358.5,-68 2259.5,-68 2259.5,-68 2253.5,-68 2247.5,-62 2247.5,-56 2247.5,-56 2247.5,-12 2247.5,-12 2247.5,-6 2253.5,0 2259.5,0 2259.5,0 2358.5,0 2358.5,0 2364.5,0 2370.5,-6 2370.5,-12 2370.5,-12 2370.5,-56 2370.5,-56 2370.5,-62 2364.5,-68 2358.5,-68\"/>\n<text text-anchor=\"start\" x=\"2271\" y=\"-52.8\" font-family=\"Helvetica,sans-Serif\" font-size=\"14.00\" fill=\"#000000\">gini = 0.401</text>\n<text text-anchor=\"start\" x=\"2265\" y=\"-37.8\" font-family=\"Helvetica,sans-Serif\" font-size=\"14.00\" fill=\"#000000\">samples = 36</text>\n<text text-anchor=\"start\" x=\"2259\" y=\"-22.8\" font-family=\"Helvetica,sans-Serif\" font-size=\"14.00\" fill=\"#000000\">value = [10, 26]</text>\n<text text-anchor=\"start\" x=\"2255.5\" y=\"-7.8\" font-family=\"Helvetica,sans-Serif\" font-size=\"14.00\" fill=\"#000000\">class = Survived</text>\n</g>\n<!-- 40&#45;&gt;42 -->\n<g id=\"edge42\" class=\"edge\">\n<title>40&#45;&gt;42</title>\n<path fill=\"none\" stroke=\"#000000\" d=\"M2307.1171,-103.9815C2307.3421,-95.618 2307.5795,-86.7965 2307.807,-78.3409\"/>\n<polygon fill=\"#000000\" stroke=\"#000000\" points=\"2311.3078,-78.3542 2308.0781,-68.2637 2304.3103,-78.1659 2311.3078,-78.3542\"/>\n</g>\n<!-- 44 -->\n<g id=\"node45\" class=\"node\">\n<title>44</title>\n<path fill=\"#fdf7f2\" stroke=\"#000000\" d=\"M2493,-68C2493,-68 2401,-68 2401,-68 2395,-68 2389,-62 2389,-56 2389,-56 2389,-12 2389,-12 2389,-6 2395,0 2401,0 2401,0 2493,0 2493,0 2499,0 2505,-6 2505,-12 2505,-12 2505,-56 2505,-56 2505,-62 2499,-68 2493,-68\"/>\n<text text-anchor=\"start\" x=\"2409\" y=\"-52.8\" font-family=\"Helvetica,sans-Serif\" font-size=\"14.00\" fill=\"#000000\">gini = 0.499</text>\n<text text-anchor=\"start\" x=\"2403\" y=\"-37.8\" font-family=\"Helvetica,sans-Serif\" font-size=\"14.00\" fill=\"#000000\">samples = 58</text>\n<text text-anchor=\"start\" x=\"2397\" y=\"-22.8\" font-family=\"Helvetica,sans-Serif\" font-size=\"14.00\" fill=\"#000000\">value = [30, 28]</text>\n<text text-anchor=\"start\" x=\"2408\" y=\"-7.8\" font-family=\"Helvetica,sans-Serif\" font-size=\"14.00\" fill=\"#000000\">class = Lost</text>\n</g>\n<!-- 43&#45;&gt;44 -->\n<g id=\"edge44\" class=\"edge\">\n<title>43&#45;&gt;44</title>\n<path fill=\"none\" stroke=\"#000000\" d=\"M2447,-103.9815C2447,-95.618 2447,-86.7965 2447,-78.3409\"/>\n<polygon fill=\"#000000\" stroke=\"#000000\" points=\"2450.5001,-78.2636 2447,-68.2637 2443.5001,-78.2637 2450.5001,-78.2636\"/>\n</g>\n<!-- 45 -->\n<g id=\"node46\" class=\"node\">\n<title>45</title>\n<path fill=\"#399de5\" stroke=\"#000000\" d=\"M2634.5,-68C2634.5,-68 2535.5,-68 2535.5,-68 2529.5,-68 2523.5,-62 2523.5,-56 2523.5,-56 2523.5,-12 2523.5,-12 2523.5,-6 2529.5,0 2535.5,0 2535.5,0 2634.5,0 2634.5,0 2640.5,0 2646.5,-6 2646.5,-12 2646.5,-12 2646.5,-56 2646.5,-56 2646.5,-62 2640.5,-68 2634.5,-68\"/>\n<text text-anchor=\"start\" x=\"2555.5\" y=\"-52.8\" font-family=\"Helvetica,sans-Serif\" font-size=\"14.00\" fill=\"#000000\">gini = 0.0</text>\n<text text-anchor=\"start\" x=\"2545.5\" y=\"-37.8\" font-family=\"Helvetica,sans-Serif\" font-size=\"14.00\" fill=\"#000000\">samples = 2</text>\n<text text-anchor=\"start\" x=\"2543.5\" y=\"-22.8\" font-family=\"Helvetica,sans-Serif\" font-size=\"14.00\" fill=\"#000000\">value = [0, 2]</text>\n<text text-anchor=\"start\" x=\"2531.5\" y=\"-7.8\" font-family=\"Helvetica,sans-Serif\" font-size=\"14.00\" fill=\"#000000\">class = Survived</text>\n</g>\n<!-- 43&#45;&gt;45 -->\n<g id=\"edge45\" class=\"edge\">\n<title>43&#45;&gt;45</title>\n<path fill=\"none\" stroke=\"#000000\" d=\"M2498.3861,-103.9815C2510.2161,-94.4232 2522.7864,-84.2668 2534.5751,-74.7419\"/>\n<polygon fill=\"#000000\" stroke=\"#000000\" points=\"2537.0142,-77.2708 2542.5929,-68.2637 2532.6149,-71.826 2537.0142,-77.2708\"/>\n</g>\n<!-- 47 -->\n<g id=\"node48\" class=\"node\">\n<title>47</title>\n<path fill=\"#399de5\" stroke=\"#000000\" d=\"M2637.5,-179.5C2637.5,-179.5 2538.5,-179.5 2538.5,-179.5 2532.5,-179.5 2526.5,-173.5 2526.5,-167.5 2526.5,-167.5 2526.5,-123.5 2526.5,-123.5 2526.5,-117.5 2532.5,-111.5 2538.5,-111.5 2538.5,-111.5 2637.5,-111.5 2637.5,-111.5 2643.5,-111.5 2649.5,-117.5 2649.5,-123.5 2649.5,-123.5 2649.5,-167.5 2649.5,-167.5 2649.5,-173.5 2643.5,-179.5 2637.5,-179.5\"/>\n<text text-anchor=\"start\" x=\"2558.5\" y=\"-164.3\" font-family=\"Helvetica,sans-Serif\" font-size=\"14.00\" fill=\"#000000\">gini = 0.0</text>\n<text text-anchor=\"start\" x=\"2548.5\" y=\"-149.3\" font-family=\"Helvetica,sans-Serif\" font-size=\"14.00\" fill=\"#000000\">samples = 1</text>\n<text text-anchor=\"start\" x=\"2546.5\" y=\"-134.3\" font-family=\"Helvetica,sans-Serif\" font-size=\"14.00\" fill=\"#000000\">value = [0, 1]</text>\n<text text-anchor=\"start\" x=\"2534.5\" y=\"-119.3\" font-family=\"Helvetica,sans-Serif\" font-size=\"14.00\" fill=\"#000000\">class = Survived</text>\n</g>\n<!-- 46&#45;&gt;47 -->\n<g id=\"edge47\" class=\"edge\">\n<title>46&#45;&gt;47</title>\n<path fill=\"none\" stroke=\"#000000\" d=\"M2588,-222.8796C2588,-212.2134 2588,-200.7021 2588,-189.9015\"/>\n<polygon fill=\"#000000\" stroke=\"#000000\" points=\"2591.5001,-189.8149 2588,-179.8149 2584.5001,-189.815 2591.5001,-189.8149\"/>\n</g>\n<!-- 48 -->\n<g id=\"node49\" class=\"node\">\n<title>48</title>\n<path fill=\"#e78c4a\" stroke=\"#000000\" d=\"M2778.5,-187C2778.5,-187 2679.5,-187 2679.5,-187 2673.5,-187 2667.5,-181 2667.5,-175 2667.5,-175 2667.5,-116 2667.5,-116 2667.5,-110 2673.5,-104 2679.5,-104 2679.5,-104 2778.5,-104 2778.5,-104 2784.5,-104 2790.5,-110 2790.5,-116 2790.5,-116 2790.5,-175 2790.5,-175 2790.5,-181 2784.5,-187 2778.5,-187\"/>\n<text text-anchor=\"start\" x=\"2675.5\" y=\"-171.8\" font-family=\"Helvetica,sans-Serif\" font-size=\"14.00\" fill=\"#000000\">FamilySize ≤ 6.5</text>\n<text text-anchor=\"start\" x=\"2691\" y=\"-156.8\" font-family=\"Helvetica,sans-Serif\" font-size=\"14.00\" fill=\"#000000\">gini = 0.145</text>\n<text text-anchor=\"start\" x=\"2685\" y=\"-141.8\" font-family=\"Helvetica,sans-Serif\" font-size=\"14.00\" fill=\"#000000\">samples = 38</text>\n<text text-anchor=\"start\" x=\"2683.5\" y=\"-126.8\" font-family=\"Helvetica,sans-Serif\" font-size=\"14.00\" fill=\"#000000\">value = [35, 3]</text>\n<text text-anchor=\"start\" x=\"2690\" y=\"-111.8\" font-family=\"Helvetica,sans-Serif\" font-size=\"14.00\" fill=\"#000000\">class = Lost</text>\n</g>\n<!-- 46&#45;&gt;48 -->\n<g id=\"edge48\" class=\"edge\">\n<title>46&#45;&gt;48</title>\n<path fill=\"none\" stroke=\"#000000\" d=\"M2637.315,-222.8796C2648.4132,-213.513 2660.2835,-203.4948 2671.6777,-193.8784\"/>\n<polygon fill=\"#000000\" stroke=\"#000000\" points=\"2674.0899,-196.4225 2679.4746,-187.2981 2669.575,-191.0731 2674.0899,-196.4225\"/>\n</g>\n<!-- 49 -->\n<g id=\"node50\" class=\"node\">\n<title>49</title>\n<path fill=\"#e58139\" stroke=\"#000000\" d=\"M2765.5,-68C2765.5,-68 2682.5,-68 2682.5,-68 2676.5,-68 2670.5,-62 2670.5,-56 2670.5,-56 2670.5,-12 2670.5,-12 2670.5,-6 2676.5,0 2682.5,0 2682.5,0 2765.5,0 2765.5,0 2771.5,0 2777.5,-6 2777.5,-12 2777.5,-12 2777.5,-56 2777.5,-56 2777.5,-62 2771.5,-68 2765.5,-68\"/>\n<text text-anchor=\"start\" x=\"2694.5\" y=\"-52.8\" font-family=\"Helvetica,sans-Serif\" font-size=\"14.00\" fill=\"#000000\">gini = 0.0</text>\n<text text-anchor=\"start\" x=\"2680\" y=\"-37.8\" font-family=\"Helvetica,sans-Serif\" font-size=\"14.00\" fill=\"#000000\">samples = 21</text>\n<text text-anchor=\"start\" x=\"2678.5\" y=\"-22.8\" font-family=\"Helvetica,sans-Serif\" font-size=\"14.00\" fill=\"#000000\">value = [21, 0]</text>\n<text text-anchor=\"start\" x=\"2685\" y=\"-7.8\" font-family=\"Helvetica,sans-Serif\" font-size=\"14.00\" fill=\"#000000\">class = Lost</text>\n</g>\n<!-- 48&#45;&gt;49 -->\n<g id=\"edge49\" class=\"edge\">\n<title>48&#45;&gt;49</title>\n<path fill=\"none\" stroke=\"#000000\" d=\"M2727.1382,-103.9815C2726.7631,-95.618 2726.3676,-86.7965 2725.9884,-78.3409\"/>\n<polygon fill=\"#000000\" stroke=\"#000000\" points=\"2729.481,-78.0968 2725.5365,-68.2637 2722.4881,-78.4105 2729.481,-78.0968\"/>\n</g>\n<!-- 50 -->\n<g id=\"node51\" class=\"node\">\n<title>50</title>\n<path fill=\"#eb9c63\" stroke=\"#000000\" d=\"M2890.5,-68C2890.5,-68 2807.5,-68 2807.5,-68 2801.5,-68 2795.5,-62 2795.5,-56 2795.5,-56 2795.5,-12 2795.5,-12 2795.5,-6 2801.5,0 2807.5,0 2807.5,0 2890.5,0 2890.5,0 2896.5,0 2902.5,-6 2902.5,-12 2902.5,-12 2902.5,-56 2902.5,-56 2902.5,-62 2896.5,-68 2890.5,-68\"/>\n<text text-anchor=\"start\" x=\"2811\" y=\"-52.8\" font-family=\"Helvetica,sans-Serif\" font-size=\"14.00\" fill=\"#000000\">gini = 0.291</text>\n<text text-anchor=\"start\" x=\"2805\" y=\"-37.8\" font-family=\"Helvetica,sans-Serif\" font-size=\"14.00\" fill=\"#000000\">samples = 17</text>\n<text text-anchor=\"start\" x=\"2803.5\" y=\"-22.8\" font-family=\"Helvetica,sans-Serif\" font-size=\"14.00\" fill=\"#000000\">value = [14, 3]</text>\n<text text-anchor=\"start\" x=\"2810\" y=\"-7.8\" font-family=\"Helvetica,sans-Serif\" font-size=\"14.00\" fill=\"#000000\">class = Lost</text>\n</g>\n<!-- 48&#45;&gt;50 -->\n<g id=\"edge50\" class=\"edge\">\n<title>48&#45;&gt;50</title>\n<path fill=\"none\" stroke=\"#000000\" d=\"M2773.6836,-103.9815C2783.7727,-94.607 2794.481,-84.6572 2804.5601,-75.2921\"/>\n<polygon fill=\"#000000\" stroke=\"#000000\" points=\"2807.1809,-77.6346 2812.1243,-68.2637 2802.4161,-72.5065 2807.1809,-77.6346\"/>\n</g>\n</g>\n</svg>\n"
          },
          "metadata": {
            "tags": []
          },
          "execution_count": 394
        }
      ]
    },
    {
      "cell_type": "code",
      "metadata": {
        "colab": {
          "base_uri": "https://localhost:8080/",
          "height": 35
        },
        "id": "rXazrj-sGJj2",
        "outputId": "721d2aaf-539c-4059-e74d-9091425ca0e4"
      },
      "source": [
        "graph.render(\"passengerSurvi_new\")"
      ],
      "execution_count": null,
      "outputs": [
        {
          "output_type": "execute_result",
          "data": {
            "application/vnd.google.colaboratory.intrinsic+json": {
              "type": "string"
            },
            "text/plain": [
              "'passengerSurvi_new.pdf'"
            ]
          },
          "metadata": {
            "tags": []
          },
          "execution_count": 395
        }
      ]
    },
    {
      "cell_type": "markdown",
      "metadata": {
        "id": "LAAHD7CbLch9"
      },
      "source": [
        "- 1st line of each node : (except those of the final row) shows the splitting condition in the form \" feature <= value \"\n",
        "- next, Gini: (Gini ratio)==> measures the impurity of the node. \n",
        "- Samples: just the number of observations contained in the node.\n",
        "- Value : [number of death, number of survivals]. \n",
        "- Last, class: is the predominant class of each node, \n",
        "and this is how our model will classify an observation. The colour also represents the class, the opacity increasing with the actual distribution of samples.\n",
        "\n",
        "    * What do we see? the predominant class is Lost\n",
        "    *- Most branches in the left side of the tree lead to an orange node \n",
        "    *- orange = Lost, blue = survived\n",
        "    *- If our observation includes ==>\n",
        "        * (title <=0.5) \"Mr\" or some other Men in title feature the braves one, \n",
        "        * without a cabine(cabin <=0.5)\n",
        "        * without family (FamilySize ≤ 1.5)\n",
        "        * with a cheap fare (Fare ≤ 1.5 or < 0.5)\n",
        "        most of them did not survived (lost)\n",
        "    *- if doesn't include \"Mr\" or others in Title ==> witch mean women(include children) and some other imporant person\n",
        "        * (title <=0.5) False\n",
        "        * Pclass first or second (Pclass ≤ 2.5) values are = [88(no), 204(yes)] \n",
        "        * most of them did survived\n",
        "\n",
        "    *- If it doesn't include \"Mr\" Title & FamilySize <=4, --> survived.\n",
        "\n",
        "    *- If it doesn't include \"Mr\" Title, FamilySize is more than 4 and Pclass is 2 or less, -> survived.\n",
        "\n",
        "    *- If it doesn't include \"Mr\" Title, FamilySize is more than 4 and Pclass is more than 2, -> not survived\n",
        "    \n",
        "* most of men in third class are lost and most of women/children in the shipwreck survived\n"
      ]
    },
    {
      "cell_type": "markdown",
      "metadata": {
        "id": "KN40lcpbYCJu"
      },
      "source": [
        "* **Change the decision tree parameters**"
      ]
    },
    {
      "cell_type": "code",
      "metadata": {
        "id": "EDmquA0pV9-m"
      },
      "source": [
        "decision_tree = DecisionTreeClassifier(random_state=20, max_depth=10, min_samples_split=5)\n",
        "decision_tree_model = decision_tree.fit(x_train, y_train)"
      ],
      "execution_count": null,
      "outputs": []
    },
    {
      "cell_type": "markdown",
      "metadata": {
        "id": "FtNIRXz8Yx2g"
      },
      "source": [
        "* **Calculate the accuracy & compare it with the old one**"
      ]
    },
    {
      "cell_type": "code",
      "metadata": {
        "colab": {
          "base_uri": "https://localhost:8080/"
        },
        "id": "N0VtZBemWQBB",
        "outputId": "691eebae-ffe0-43d2-dc5a-6bf284b03db7"
      },
      "source": [
        "# evaluating our model\n",
        "y_pred_= decision_tree_model.predict(x_test)\n",
        "\n",
        "# Measuring the accuracy of our model\n",
        "accuracy = accuracy_score(y_test, y_pred) * 100\n",
        "accuracy_ = accuracy_score(y_test, y_pred_) * 100\n",
        "print(\"Accuracy with defaut decision tree: %.3f\" %accuracy,\"%\")\n",
        "print(\"Accuracy with decision tree with param: %.3f\" %accuracy_,\"%\")"
      ],
      "execution_count": null,
      "outputs": [
        {
          "output_type": "stream",
          "text": [
            "Accuracy with defaut decision tree: 82.682 %\n",
            "Accuracy with decision tree with param: 83.799 %\n"
          ],
          "name": "stdout"
        }
      ]
    },
    {
      "cell_type": "markdown",
      "metadata": {
        "id": "qIJS02UcYE-b"
      },
      "source": [
        "- note : there is no big change, when i tried to change the max_depth to 10 the accuracy increase with just 0.11 (1.1%) "
      ]
    },
    {
      "cell_type": "markdown",
      "metadata": {
        "id": "eVE0UuBjY5uU"
      },
      "source": [
        "# **Random forest**"
      ]
    },
    {
      "cell_type": "code",
      "metadata": {
        "id": "63GyNDdsX-AX"
      },
      "source": [
        "# Importing Random Forest Classifier\n",
        "from sklearn.ensemble import RandomForestClassifier"
      ],
      "execution_count": null,
      "outputs": []
    },
    {
      "cell_type": "code",
      "metadata": {
        "id": "hvFEbmQVZaS2"
      },
      "source": [
        "#Creating a random forest \n",
        "random = RandomForestClassifier()"
      ],
      "execution_count": null,
      "outputs": []
    },
    {
      "cell_type": "code",
      "metadata": {
        "id": "JUApEM_3ZlQ5"
      },
      "source": [
        "#Training our model\n",
        "random_model = random.fit(x_train, y_train) "
      ],
      "execution_count": null,
      "outputs": []
    },
    {
      "cell_type": "code",
      "metadata": {
        "colab": {
          "base_uri": "https://localhost:8080/"
        },
        "id": "wP_xBB36Z6Wv",
        "outputId": "1c7bf2d2-9ffe-41fc-b654-f3b606a950a7"
      },
      "source": [
        "\n",
        "y_pred_random = random_model.predict(x_test)\n",
        "\n",
        "accuracy_random = accuracy_score(y_test, y_pred_random) * 100\n",
        "print(\"Accuracy: %.2f\" %accuracy_random,\"%\")"
      ],
      "execution_count": null,
      "outputs": [
        {
          "output_type": "stream",
          "text": [
            "Accuracy: 82.68 %\n"
          ],
          "name": "stdout"
        }
      ]
    },
    {
      "cell_type": "markdown",
      "metadata": {
        "id": "55puLNkyakjW"
      },
      "source": [
        "* **change the number of estimators**"
      ]
    },
    {
      "cell_type": "code",
      "metadata": {
        "colab": {
          "base_uri": "https://localhost:8080/"
        },
        "id": "CiEIKs4IaphZ",
        "outputId": "c2ec59eb-5587-4c28-8d86-f52a46874f70"
      },
      "source": [
        "random_ = RandomForestClassifier(n_estimators= 200)\n",
        "random_model_ = random_.fit(x_train, y_train) \n",
        "y_pred_random_ = random_model_.predict(x_test)\n",
        "accuracy_random_ = accuracy_score(y_test, y_pred_random_) * 100\n",
        "print(\"Accuracy: %.2f\" %accuracy_random_,\"%\")"
      ],
      "execution_count": null,
      "outputs": [
        {
          "output_type": "stream",
          "text": [
            "Accuracy: 83.24 %\n"
          ],
          "name": "stdout"
        }
      ]
    },
    {
      "cell_type": "markdown",
      "metadata": {
        "id": "cWnjZgfacKRu"
      },
      "source": [
        "* **compare All SCores:**"
      ]
    },
    {
      "cell_type": "code",
      "metadata": {
        "id": "k6tacadYwta7"
      },
      "source": [
        "# Measuring the accuracy of our model\n",
        "# simple DT\n",
        "accuracy = accuracy_score(y_test, y_pred) * 100\n",
        "f1 = f1_score(y_test, y_pred) * 100\n",
        "precision = precision_score(y_test, y_pred) * 100\n",
        "recall = recall_score(y_test, y_pred) * 100\n",
        "\n",
        "# Dt with param\n",
        "accuracy_Dt = accuracy_score(y_test, y_pred_) * 100\n",
        "f1_Dt = f1_score(y_test, y_pred_) * 100\n",
        "precision_Dt = precision_score(y_test, y_pred_) * 100\n",
        "recall_Dt = recall_score(y_test, y_pred_) * 100\n",
        "\n",
        "# random forest with estimator = 100\n",
        "accuracy_rand = accuracy_score(y_test, y_pred_random) * 100\n",
        "f1_rand = f1_score(y_test, y_pred_random) * 100\n",
        "precision_rand = precision_score(y_test, y_pred_random) * 100\n",
        "recall_rand = recall_score(y_test, y_pred_random) * 100\n",
        "\n",
        "# random forest with estimator = 200\n",
        "accuracy_rand2 = accuracy_score(y_test, y_pred_random_) * 100\n",
        "f1_rand2 = f1_score(y_test, y_pred_random_) * 100\n",
        "precision_rand2 = precision_score(y_test, y_pred_random_) * 100\n",
        "recall_rand2 = recall_score(y_test, y_pred_random_) * 100"
      ],
      "execution_count": null,
      "outputs": []
    },
    {
      "cell_type": "code",
      "metadata": {
        "colab": {
          "base_uri": "https://localhost:8080/"
        },
        "id": "mdWQauu70LiQ",
        "outputId": "949b90bf-ce1a-4cd8-b009-954e37cd0727"
      },
      "source": [
        "print('The Scores of Decision Tree with Max depth = 5:\\n')\n",
        "print('*'*50)\n",
        "\n",
        "print(\"Accuracy score = %.2f\" %accuracy,\"%\")\n",
        "print(\"f1 score = %.2f\" %f1,\"%\")\n",
        "print(\"precision score = %.2f\" %precision,\"%\")\n",
        "print(\"recall score = %.2f\" %recall,\"%\")\n",
        "\n",
        "print('\\nThe Scores of Decision Tree with Max depth = 10:\\n')\n",
        "print('*'*50)\n",
        "\n",
        "print(\"Accuracy score = %.2f\" %accuracy_Dt,\"%\")\n",
        "print(\"f1 score = %.2f\" %f1_Dt,\"%\")\n",
        "print(\"precision score = %.2f\" %precision_Dt,\"%\")\n",
        "print(\"recall score = %.2f\" %recall_Dt,\"%\")\n",
        "\n",
        "print('\\nThe Scores of Random Forest (100 trees):\\n')\n",
        "print('*'*40)\n",
        "\n",
        "print(\"Accuracy score = %.2f\" %accuracy_rand,\"%\")\n",
        "print(\"f1 score = %.2f\" %f1_rand,\"%\")\n",
        "print(\"precision score = %.2f\" %precision_rand,\"%\")\n",
        "print(\"recall score = %.2f\" %recall_rand,\"%\")\n",
        "\n",
        "print('\\nThe Scores of Random Forest (200 trees):\\n')\n",
        "print('*'*40)\n",
        "\n",
        "print(\"Accuracy score = %.2f\" %accuracy_rand2,\"%\")\n",
        "print(\"f1 score = %.2f\" %f1_rand2,\"%\")\n",
        "print(\"precision score = %.2f\" %precision_rand2,\"%\")\n",
        "print(\"recall score = %.2f\" %recall_rand2,\"%\")"
      ],
      "execution_count": null,
      "outputs": [
        {
          "output_type": "stream",
          "text": [
            "The Scores of Decision Tree with Max depth = 5:\n",
            "\n",
            "**************************************************\n",
            "Accuracy score = 82.68 %\n",
            "f1 score = 75.20 %\n",
            "precision score = 92.16 %\n",
            "recall score = 63.51 %\n",
            "\n",
            "The Scores of Decision Tree with Max depth = 10:\n",
            "\n",
            "**************************************************\n",
            "Accuracy score = 83.80 %\n",
            "f1 score = 77.86 %\n",
            "precision score = 89.47 %\n",
            "recall score = 68.92 %\n",
            "\n",
            "The Scores of Random Forest (100 trees):\n",
            "\n",
            "****************************************\n",
            "Accuracy score = 82.68 %\n",
            "f1 score = 77.37 %\n",
            "precision score = 84.13 %\n",
            "recall score = 71.62 %\n",
            "\n",
            "The Scores of Random Forest (200 trees):\n",
            "\n",
            "****************************************\n",
            "Accuracy score = 83.24 %\n",
            "f1 score = 77.94 %\n",
            "precision score = 85.48 %\n",
            "recall score = 71.62 %\n"
          ],
          "name": "stdout"
        }
      ]
    },
    {
      "cell_type": "code",
      "metadata": {
        "id": "fsc39BhQ1niB"
      },
      "source": [
        "# Accuracy score = 83.80 %\n",
        "# f1 score = 77.86 %\n",
        "# precision score = 89.47 %\n",
        "# recall score = 68.92 %"
      ],
      "execution_count": null,
      "outputs": []
    },
    {
      "cell_type": "markdown",
      "metadata": {
        "id": "RVczsj9dc2pE"
      },
      "source": [
        "* the best model is decision tree with max depth = 10 (acuuracy = 83.80% & f1-score = 77.86%)"
      ]
    },
    {
      "cell_type": "markdown",
      "metadata": {
        "id": "vHvR9huB0qu8"
      },
      "source": [
        "* in accuracy : we have got 83.80 wich means our model is approx. 84% accurate.\n",
        "    - the accuracy score is simply a ratio of correctly predicted observation to the total observations\n",
        "* in precision : We have got 89.47% precision wich is pretty good\n",
        "    - the question is: if all passengers that labeled as survived, how many actually survived? \n",
        "    - High precision relates to the low false positive rate    \n",
        "* Recall: We have got recall of approx 69% wich is good for this model as it’s above 0.5(50%)\n",
        "    - is the ratio of correctly predicted positive observations to the all observations in actual class - yes (survived)\n",
        "    -  the question is : if all the passengers that truly survived ?\n",
        "* **f1-Score**: we have got 77,86% : wich is not too bad,\n",
        "    - this score takes both FP & FN into account.\n",
        "    - F1-SCORE is usually more useful than accuracy, especially if we have an uneven class distribution. \n",
        "    - Accuracy works best if FP & FN have similar cost (symmetric datasets). \n",
        "    - but If the value of FP & FN are very different, it’s better to look at both Precision and Recall."
      ]
    }
  ]
}
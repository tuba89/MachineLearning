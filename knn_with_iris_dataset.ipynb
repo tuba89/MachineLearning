{
  "nbformat": 4,
  "nbformat_minor": 0,
  "metadata": {
    "colab": {
      "name": "knn with iris dataset.ipynb",
      "provenance": [],
      "collapsed_sections": [],
      "include_colab_link": true
    },
    "kernelspec": {
      "name": "python3",
      "display_name": "Python 3"
    },
    "language_info": {
      "name": "python"
    }
  },
  "cells": [
    {
      "cell_type": "markdown",
      "metadata": {
        "id": "view-in-github",
        "colab_type": "text"
      },
      "source": [
        "<a href=\"https://colab.research.google.com/github/tuba89/MachineLearning/blob/main/knn_with_iris_dataset.ipynb\" target=\"_parent\"><img src=\"https://colab.research.google.com/assets/colab-badge.svg\" alt=\"Open In Colab\"/></a>"
      ]
    },
    {
      "cell_type": "markdown",
      "metadata": {
        "id": "2rN0DCW4ONLK"
      },
      "source": [
        "# 1. Handle Data"
      ]
    },
    {
      "cell_type": "code",
      "metadata": {
        "id": "I6-UDEWLHTbs"
      },
      "source": [
        "import csv\n",
        "with open('iris.data', 'r') as csvfile:\n",
        "    lines = csv.reader(csvfile)\n",
        "    for row in lines :\n",
        "        print (', '.join(row))\n"
      ],
      "execution_count": null,
      "outputs": []
    },
    {
      "cell_type": "code",
      "metadata": {
        "id": "b3mPVy3iIRAt"
      },
      "source": [
        "# # Split the data into training & testing data\n",
        "import csv\n",
        "import random\n",
        "\n",
        "def loadDataset(filename, split, trainingSet = [], testSet = []):\n",
        "\n",
        "    with open(filename, 'r') as csvfile:\n",
        "        lines = csv.reader(csvfile)\n",
        "        dataset = list(lines)\n",
        "\n",
        "        for x in range(len(dataset)-1):\n",
        "            for y in range(4):\n",
        "                dataset[x][y] = float(dataset[x][y])\n",
        "\n",
        "            if random.random() < split:\n",
        "                trainingSet.append(dataset[x])\n",
        "\n",
        "            else:\n",
        "                testSet.append(dataset[x])"
      ],
      "execution_count": null,
      "outputs": []
    },
    {
      "cell_type": "code",
      "metadata": {
        "colab": {
          "base_uri": "https://localhost:8080/"
        },
        "id": "TdmtLcOuK_je",
        "outputId": "32ca8497-55b6-4a21-8e29-a3b2bbf0452d"
      },
      "source": [
        "# test the function out with our iris dataset\n",
        "\n",
        "trainingSet = []\n",
        "testSet = []\n",
        "\n",
        "loadDataset('iris.data', 0.66, trainingSet, testSet)\n",
        "\n",
        "print ('Train: ' + repr(len(trainingSet)))\n",
        "\n",
        "print ('Test: ' + repr(len(testSet)) )"
      ],
      "execution_count": null,
      "outputs": [
        {
          "output_type": "stream",
          "text": [
            "Train: 100\n",
            "Test: 49\n"
          ],
          "name": "stdout"
        }
      ]
    },
    {
      "cell_type": "markdown",
      "metadata": {
        "id": "lH_Jlc22OXp9"
      },
      "source": [
        "# 2. Similarity"
      ]
    },
    {
      "cell_type": "code",
      "metadata": {
        "id": "giwfIQ2fMM3s"
      },
      "source": [
        "import math\n",
        "\n",
        "def euclideanDistance(instance1, instance2, length):\n",
        "    #Complete the function\n",
        "    distance = 0\n",
        "    for x in range(length):\n",
        "        distance += pow( (instance1[x] - instance2[x]), 2 )\n",
        "    return math.sqrt(distance)"
      ],
      "execution_count": null,
      "outputs": []
    },
    {
      "cell_type": "code",
      "metadata": {
        "colab": {
          "base_uri": "https://localhost:8080/"
        },
        "id": "Cqtgb5a9N7EO",
        "outputId": "f57070de-e6f7-4675-dc6a-265ef59c0f99"
      },
      "source": [
        "# test this function with some sample data\n",
        "data1 = [2, 2, 2, 'a']\n",
        "data2 = [4, 4, 4, 'b']\n",
        "\n",
        "distance = euclideanDistance(data1, data2, 3)\n",
        "print('Distance: ' + repr(distance))"
      ],
      "execution_count": null,
      "outputs": [
        {
          "output_type": "stream",
          "text": [
            "Distance: 3.4641016151377544\n"
          ],
          "name": "stdout"
        }
      ]
    },
    {
      "cell_type": "markdown",
      "metadata": {
        "id": "BSx-1zuvOcz5"
      },
      "source": [
        "# 3. Neighbors"
      ]
    },
    {
      "cell_type": "code",
      "metadata": {
        "id": "zCxI59tGOJDf"
      },
      "source": [
        "import operator\n",
        "\n",
        "def getNeighbors(trainingSet, testInstance, k):\n",
        "    distances = []\n",
        "    length = len(testInstance)-1\n",
        "\n",
        "    for x in range(len(trainingSet)):\n",
        "        dist = euclideanDistance(testInstance, trainingSet[x], length)\n",
        "        distances.append((trainingSet[x], dist))\n",
        "        distances.sort(key=operator.itemgetter(1))\n",
        "        neighbors = []\n",
        "\n",
        "    for x in range(k):\n",
        "        neighbors.append(distances[x][0])\n",
        "\n",
        "    return neighbors"
      ],
      "execution_count": null,
      "outputs": []
    },
    {
      "cell_type": "code",
      "metadata": {
        "colab": {
          "base_uri": "https://localhost:8080/"
        },
        "id": "KfR2Y8TSPEeq",
        "outputId": "28df89ac-76eb-4dd4-bcc1-ba0f909449e6"
      },
      "source": [
        "# We can test out this function as follows:\n",
        "trainSet = [[2, 2, 2, 'a'], [4, 4, 4, 'b']]\n",
        "\n",
        "testInstance = [5, 5, 5]\n",
        "k = 1\n",
        "neighbors = getNeighbors(trainSet, testInstance, 1)\n",
        "\n",
        "print(neighbors)"
      ],
      "execution_count": null,
      "outputs": [
        {
          "output_type": "stream",
          "text": [
            "[[4, 4, 4, 'b']]\n"
          ],
          "name": "stdout"
        }
      ]
    },
    {
      "cell_type": "markdown",
      "metadata": {
        "id": "YOWgK7rGP7r4"
      },
      "source": [
        "# 4. Response"
      ]
    },
    {
      "cell_type": "code",
      "metadata": {
        "id": "MokkDq5uP4qT"
      },
      "source": [
        "\n",
        "def getResponse(neighbors):\n",
        "    classVotes = {}\n",
        "\n",
        "    for x in range(len(neighbors)):\n",
        "        response = neighbors[x][ -1 ] #complete with appropriate number\n",
        "\n",
        "        if response in classVotes:\n",
        "            #Complete the if clause\n",
        "            classVotes[response] += 1\n",
        "        else:\n",
        "             classVotes[response] = 1\n",
        "\n",
        "    sortedVotes = sorted(classVotes.items(), key = operator.itemgetter(1), reverse=True)\n",
        "    return sortedVotes[0][0]"
      ],
      "execution_count": null,
      "outputs": []
    },
    {
      "cell_type": "code",
      "metadata": {
        "colab": {
          "base_uri": "https://localhost:8080/"
        },
        "id": "KJtKhUB0Q_Jh",
        "outputId": "6b20f88a-d83a-43bc-b800-c051544e9efa"
      },
      "source": [
        "#test out this function with some test neighbors\n",
        "neighbors = [[1,1,1,'a'], [2,2,2,'a'], [3,3,3,'b']]\n",
        "\n",
        "response = getResponse(neighbors)\n",
        "print(response)"
      ],
      "execution_count": null,
      "outputs": [
        {
          "output_type": "stream",
          "text": [
            "a\n"
          ],
          "name": "stdout"
        }
      ]
    },
    {
      "cell_type": "markdown",
      "metadata": {
        "id": "bPb8zdUTRkRs"
      },
      "source": [
        "# 5. Accuracy"
      ]
    },
    {
      "cell_type": "code",
      "metadata": {
        "id": "G2VsfOPjRlhK"
      },
      "source": [
        "def getAccuracy(testSet, predictions):\n",
        "    #Complete the function\n",
        "    correct = 0\n",
        "    for x in range(len(testSet)):\n",
        "        if testSet[x][-1] == predictions[x]:\n",
        "            correct += 1\n",
        "        \n",
        "    return (correct/float(len(testSet))) * 100.0"
      ],
      "execution_count": null,
      "outputs": []
    },
    {
      "cell_type": "code",
      "metadata": {
        "colab": {
          "base_uri": "https://localhost:8080/"
        },
        "id": "5ngFBD_CS0w8",
        "outputId": "9ac4c09a-2880-45cc-a5d9-e0c60f3c78f3"
      },
      "source": [
        "#We can test this function with a test dataset and predictions, as follows:\n",
        "\n",
        "testSet = [[1,1,1,'a'], [2,2,2,'a'], [3,3,3,'b']]\n",
        "predictions = ['a', 'a', 'a']\n",
        "accuracy = getAccuracy(testSet, predictions)\n",
        "print(accuracy)"
      ],
      "execution_count": null,
      "outputs": [
        {
          "output_type": "stream",
          "text": [
            "66.66666666666666\n"
          ],
          "name": "stdout"
        }
      ]
    },
    {
      "cell_type": "markdown",
      "metadata": {
        "id": "I7a04GmrTOMC"
      },
      "source": [
        "# 6. Main"
      ]
    },
    {
      "cell_type": "code",
      "metadata": {
        "colab": {
          "base_uri": "https://localhost:8080/"
        },
        "id": "RozgOYFuTLTC",
        "outputId": "508fdad2-2edb-4366-8d33-6379233e75c9"
      },
      "source": [
        "def main():\n",
        "    trainingSet= []\n",
        "    testSet= []\n",
        "    split = 0.66\n",
        "    loadDataset('iris.data', split, trainingSet, testSet)\n",
        "    print (\"Training set is = \" + repr(len(trainingSet)))\n",
        "    print (\"Test set is = \" + repr(len(testSet)))    \n",
        "    predictions=[]\n",
        "    k = 3 # odd number\n",
        "\n",
        "    for x in range(len(testSet)):\n",
        "        neighbors = getNeighbors(trainingSet, testSet[x], k)\n",
        "        result = getResponse(neighbors)\n",
        "        predictions.append(result)\n",
        "\n",
        "        print('--> predicted:' + repr(result) + '==> # actual = ' + repr(testSet[x][-1]))\n",
        "    accuracy = getAccuracy(testSet, predictions)\n",
        "    print ('\\nThe Accuracy is = ', accuracy)\n",
        "\n",
        "main()"
      ],
      "execution_count": null,
      "outputs": [
        {
          "output_type": "stream",
          "text": [
            "Training set is = 91\n",
            "Test set is = 58\n",
            "--> predicted:'Iris-setosa'==> # actual = 'Iris-setosa'\n",
            "--> predicted:'Iris-setosa'==> # actual = 'Iris-setosa'\n",
            "--> predicted:'Iris-setosa'==> # actual = 'Iris-setosa'\n",
            "--> predicted:'Iris-setosa'==> # actual = 'Iris-setosa'\n",
            "--> predicted:'Iris-setosa'==> # actual = 'Iris-setosa'\n",
            "--> predicted:'Iris-setosa'==> # actual = 'Iris-setosa'\n",
            "--> predicted:'Iris-setosa'==> # actual = 'Iris-setosa'\n",
            "--> predicted:'Iris-setosa'==> # actual = 'Iris-setosa'\n",
            "--> predicted:'Iris-setosa'==> # actual = 'Iris-setosa'\n",
            "--> predicted:'Iris-setosa'==> # actual = 'Iris-setosa'\n",
            "--> predicted:'Iris-setosa'==> # actual = 'Iris-setosa'\n",
            "--> predicted:'Iris-setosa'==> # actual = 'Iris-setosa'\n",
            "--> predicted:'Iris-setosa'==> # actual = 'Iris-setosa'\n",
            "--> predicted:'Iris-setosa'==> # actual = 'Iris-setosa'\n",
            "--> predicted:'Iris-setosa'==> # actual = 'Iris-setosa'\n",
            "--> predicted:'Iris-setosa'==> # actual = 'Iris-setosa'\n",
            "--> predicted:'Iris-setosa'==> # actual = 'Iris-setosa'\n",
            "--> predicted:'Iris-setosa'==> # actual = 'Iris-setosa'\n",
            "--> predicted:'Iris-setosa'==> # actual = 'Iris-setosa'\n",
            "--> predicted:'Iris-versicolor'==> # actual = 'Iris-versicolor'\n",
            "--> predicted:'Iris-versicolor'==> # actual = 'Iris-versicolor'\n",
            "--> predicted:'Iris-versicolor'==> # actual = 'Iris-versicolor'\n",
            "--> predicted:'Iris-versicolor'==> # actual = 'Iris-versicolor'\n",
            "--> predicted:'Iris-versicolor'==> # actual = 'Iris-versicolor'\n",
            "--> predicted:'Iris-versicolor'==> # actual = 'Iris-versicolor'\n",
            "--> predicted:'Iris-versicolor'==> # actual = 'Iris-versicolor'\n",
            "--> predicted:'Iris-versicolor'==> # actual = 'Iris-versicolor'\n",
            "--> predicted:'Iris-versicolor'==> # actual = 'Iris-versicolor'\n",
            "--> predicted:'Iris-versicolor'==> # actual = 'Iris-versicolor'\n",
            "--> predicted:'Iris-versicolor'==> # actual = 'Iris-versicolor'\n",
            "--> predicted:'Iris-virginica'==> # actual = 'Iris-versicolor'\n",
            "--> predicted:'Iris-versicolor'==> # actual = 'Iris-versicolor'\n",
            "--> predicted:'Iris-versicolor'==> # actual = 'Iris-versicolor'\n",
            "--> predicted:'Iris-versicolor'==> # actual = 'Iris-versicolor'\n",
            "--> predicted:'Iris-versicolor'==> # actual = 'Iris-versicolor'\n",
            "--> predicted:'Iris-versicolor'==> # actual = 'Iris-versicolor'\n",
            "--> predicted:'Iris-versicolor'==> # actual = 'Iris-versicolor'\n",
            "--> predicted:'Iris-virginica'==> # actual = 'Iris-virginica'\n",
            "--> predicted:'Iris-virginica'==> # actual = 'Iris-virginica'\n",
            "--> predicted:'Iris-virginica'==> # actual = 'Iris-virginica'\n",
            "--> predicted:'Iris-virginica'==> # actual = 'Iris-virginica'\n",
            "--> predicted:'Iris-virginica'==> # actual = 'Iris-virginica'\n",
            "--> predicted:'Iris-virginica'==> # actual = 'Iris-virginica'\n",
            "--> predicted:'Iris-virginica'==> # actual = 'Iris-virginica'\n",
            "--> predicted:'Iris-virginica'==> # actual = 'Iris-virginica'\n",
            "--> predicted:'Iris-virginica'==> # actual = 'Iris-virginica'\n",
            "--> predicted:'Iris-virginica'==> # actual = 'Iris-virginica'\n",
            "--> predicted:'Iris-virginica'==> # actual = 'Iris-virginica'\n",
            "--> predicted:'Iris-virginica'==> # actual = 'Iris-virginica'\n",
            "--> predicted:'Iris-virginica'==> # actual = 'Iris-virginica'\n",
            "--> predicted:'Iris-virginica'==> # actual = 'Iris-virginica'\n",
            "--> predicted:'Iris-virginica'==> # actual = 'Iris-virginica'\n",
            "--> predicted:'Iris-virginica'==> # actual = 'Iris-virginica'\n",
            "--> predicted:'Iris-virginica'==> # actual = 'Iris-virginica'\n",
            "--> predicted:'Iris-virginica'==> # actual = 'Iris-virginica'\n",
            "--> predicted:'Iris-virginica'==> # actual = 'Iris-virginica'\n",
            "--> predicted:'Iris-virginica'==> # actual = 'Iris-virginica'\n",
            "--> predicted:'Iris-virginica'==> # actual = 'Iris-virginica'\n",
            "\n",
            "The Accuracy is =  98.27586206896551\n"
          ],
          "name": "stdout"
        }
      ]
    },
    {
      "cell_type": "markdown",
      "metadata": {
        "id": "X55tGutcVLeR"
      },
      "source": [
        "# 7. Another distance metric"
      ]
    },
    {
      "cell_type": "markdown",
      "metadata": {
        "id": "Uq-ktqjZDb6b"
      },
      "source": [
        "* Reloading reading and splitting the dataset again just for clarity and simplicity"
      ]
    },
    {
      "cell_type": "code",
      "metadata": {
        "id": "OB-WeC8Xv4JF"
      },
      "source": [
        "import numpy as np\n",
        "import matplotlib.pyplot as plt\n",
        "import pandas as pd\n",
        "# reloding dataset\n",
        "path = \"/content/drive/MyDrive/iris.data\"\n",
        "\n",
        "# Assign colum names to the dataset\n",
        "names = ['sepal-length', 'sepal-width', 'petal-length', 'petal-width', 'species']\n",
        "\n",
        "# Read dataset to pandas dataframe\n",
        "dataset = pd.read_csv(path, names= names)"
      ],
      "execution_count": null,
      "outputs": []
    },
    {
      "cell_type": "code",
      "metadata": {
        "id": "NZOZjACqw9Qs"
      },
      "source": [
        "# split dataset into its attributes(features) & labels (target)\n",
        "x = dataset.iloc[:, :-1].values         #  X = the first four columns of the dataset \n",
        "y = dataset.iloc[:, 4].values           #  y = target\n"
      ],
      "execution_count": null,
      "outputs": []
    },
    {
      "cell_type": "code",
      "metadata": {
        "id": "AYZxCPrwxkLz"
      },
      "source": [
        "# Train//Test split\n",
        "from sklearn.model_selection import train_test_split\n",
        "#20% = (30records) test & 80% train (120 records)\n",
        "x_train, x_test, y_train, y_test = train_test_split(x, y, test_size=0.20)"
      ],
      "execution_count": null,
      "outputs": []
    },
    {
      "cell_type": "code",
      "metadata": {
        "id": "snYdJM6uxvPy"
      },
      "source": [
        "from sklearn.pipeline import make_pipeline\n",
        "from sklearn import preprocessing\n",
        "from sklearn.model_selection import  ShuffleSplit\n",
        "from sklearn.model_selection import cross_val_score\n",
        "from sklearn.neighbors import KNeighborsClassifier\n",
        "plt.style.use('ggplot')"
      ],
      "execution_count": null,
      "outputs": []
    },
    {
      "cell_type": "markdown",
      "metadata": {
        "id": "MfVpofOUet7j"
      },
      "source": [
        "*  Evaluating estimator performance (Cross-validation)"
      ]
    },
    {
      "cell_type": "code",
      "metadata": {
        "colab": {
          "base_uri": "https://localhost:8080/"
        },
        "id": "Fb9INtQzzJUT",
        "outputId": "bc99c2fd-c8de-4b87-b99a-2ba28c90cda3"
      },
      "source": [
        "\n",
        "cross_val = ShuffleSplit(n_splits=5, test_size=0.3, random_state=0) \n",
        "# --> here The ShuffleSplit will generate \n",
        "# --> a user defined number of independent train / test dataset splits\n",
        "# Samples are 1st shuffled(mélangés) & split into a pair of train / test sets\n",
        "clf_knn = make_pipeline(preprocessing.StandardScaler(), \n",
        "                        KNeighborsClassifier(n_neighbors = 7, p = 2, metric='minkowski'))\n",
        "scores_knn = cross_val_score(clf_knn, x, y, cv = cross_val)\n",
        "\n",
        "print(\"Accuracy of KNN: %0.2f (+/- %0.2f)\" % (scores_knn.mean(), scores_knn.std()))"
      ],
      "execution_count": null,
      "outputs": [
        {
          "output_type": "stream",
          "text": [
            "Accuracy of KNN: 0.95 (+/- 0.03)\n"
          ],
          "name": "stdout"
        }
      ]
    },
    {
      "cell_type": "code",
      "metadata": {
        "id": "x-AFAJDx0g9t"
      },
      "source": [
        "from sklearn import metrics\n",
        "\n",
        "#initialize vector for storing accuracies\n",
        "vec1 = []\n",
        "vec2 = []\n",
        "vec3 = []\n",
        "\n",
        "#determine a range of k-values to be explored\n",
        "k_range = list(range(1, 50))"
      ],
      "execution_count": null,
      "outputs": []
    },
    {
      "cell_type": "code",
      "metadata": {
        "id": "svDFPlDy0ks9"
      },
      "source": [
        "#loop over k-range, by unsing the three different distance methods\n",
        "for i in k_range:\n",
        "    knn1 = make_pipeline(preprocessing.StandardScaler(), KNeighborsClassifier(n_neighbors = i, p = 1))\n",
        "    scores_knn1 = cross_val_score(knn1, x, y, cv = cross_val)\n",
        "    vec1.append(scores_knn1.mean())\n",
        "\n",
        "    knn2 = make_pipeline(preprocessing.StandardScaler(), KNeighborsClassifier(n_neighbors = i, p = 2))\n",
        "    scores_knn2 = cross_val_score(knn2, x, y, cv = cross_val)\n",
        "    vec2.append(scores_knn2.mean())\n",
        "\n",
        "    knn3 = make_pipeline(preprocessing.StandardScaler(), KNeighborsClassifier(n_neighbors = i, p = 3))\n",
        "    scores_knn3 = cross_val_score(knn3, x, y, cv = cross_val)\n",
        "    vec3.append(scores_knn3.mean())"
      ],
      "execution_count": null,
      "outputs": []
    },
    {
      "cell_type": "code",
      "metadata": {
        "colab": {
          "base_uri": "https://localhost:8080/",
          "height": 309
        },
        "id": "VAm5PGk40sD6",
        "outputId": "2cffe787-af1d-411b-8f68-fd2b8a8d3c1d"
      },
      "source": [
        "#plotting accuracy with the three distance metrics\n",
        "plt.figure(figsize=(12, 9))\n",
        "plt.subplot(2, 1, 1)\n",
        "plt.plot(k_range, vec1, c = 'r', label = 'Manhattan')\n",
        "plt.plot(k_range, vec2, c = 'g', label = 'Euclidian')\n",
        "plt.plot(k_range, vec3, c = 'b', label = 'Minkowski')\n",
        "\n",
        "plt.legend()\n",
        "plt.title('KNN Accuracy & k-value by 03 distance metrics', fontsize=18, color=\"darkblue\")\n",
        "plt.ylabel('Performance', color=\"b\", fontsize=15)\n",
        "plt.xlabel('k-value', color=\"b\", fontsize=15)\n",
        "#plt.grid()\n",
        "\n",
        "plt.show()"
      ],
      "execution_count": null,
      "outputs": [
        {
          "output_type": "display_data",
          "data": {
            "image/png": "[encoded data removed]",
            "text/plain": [
              "<Figure size 864x648 with 1 Axes>"
            ]
          },
          "metadata": {
            "tags": []
          }
        }
      ]
    },
    {
      "cell_type": "code",
      "metadata": {
        "id": "90dYeJs96yF3"
      },
      "source": [
        "#y_pred = knn1.predict(x_test)\n",
        "clf = clf_knn_1.fit(x_train, y_train)"
      ],
      "execution_count": null,
      "outputs": []
    },
    {
      "cell_type": "code",
      "metadata": {
        "id": "8j7I6tpM7mWm"
      },
      "source": [
        "y_pred = clf.predict(x_test)"
      ],
      "execution_count": null,
      "outputs": []
    },
    {
      "cell_type": "markdown",
      "metadata": {
        "id": "7zp_dF_O7zed"
      },
      "source": [
        "* Evaluating the Algorithm"
      ]
    },
    {
      "cell_type": "code",
      "metadata": {
        "colab": {
          "base_uri": "https://localhost:8080/"
        },
        "id": "JgXY-FaE7wJr",
        "outputId": "8cf743df-c932-4a16-ba89-640158d47a7f"
      },
      "source": [
        "from sklearn.metrics import classification_report, confusion_matrix\n",
        "print(confusion_matrix(y_test, y_pred))\n",
        "print(classification_report(y_test, y_pred))"
      ],
      "execution_count": null,
      "outputs": [
        {
          "output_type": "stream",
          "text": [
            "[[10  0  0]\n",
            " [ 0  8  0]\n",
            " [ 0  3  9]]\n",
            "                 precision    recall  f1-score   support\n",
            "\n",
            "    Iris-setosa       1.00      1.00      1.00        10\n",
            "Iris-versicolor       0.73      1.00      0.84         8\n",
            " Iris-virginica       1.00      0.75      0.86        12\n",
            "\n",
            "       accuracy                           0.90        30\n",
            "      macro avg       0.91      0.92      0.90        30\n",
            "   weighted avg       0.93      0.90      0.90        30\n",
            "\n"
          ],
          "name": "stdout"
        }
      ]
    },
    {
      "cell_type": "markdown",
      "metadata": {
        "id": "tmp34PMH8Q5r"
      },
      "source": [
        "* Comparing Error Rate with the K Value"
      ]
    },
    {
      "cell_type": "code",
      "metadata": {
        "id": "dWvrNbUu8PR3"
      },
      "source": [
        "# to find the best value of K is to plot the graph of K value\n",
        "# & error rate for the dataset.\n",
        "# i plot the mean error for predicted values of test set for all the k-values between 1 & 40.\n",
        "error = []\n",
        "\n",
        "# Calculating error for K values between 1 & 40\n",
        "for i in range(1, 40):\n",
        "    knn = KNeighborsClassifier(n_neighbors=i)\n",
        "    knn.fit(x_train, y_train)\n",
        "    pred_i = knn.predict(x_test)\n",
        "    error.append(np.mean(pred_i != y_test))\n"
      ],
      "execution_count": null,
      "outputs": []
    },
    {
      "cell_type": "code",
      "metadata": {
        "colab": {
          "base_uri": "https://localhost:8080/",
          "height": 588
        },
        "id": "lnYjPXdb9JWq",
        "outputId": "4cca781c-4ac5-4b64-a919-557a5e26098c"
      },
      "source": [
        "# plot the error values against k-values\n",
        "plt.figure(figsize=(10, 9))\n",
        "plt.plot(range(1, 40), error, color='g', linestyle='dashed', marker='o',\n",
        "         markerfacecolor='purple', markersize=10)\n",
        "plt.title('Error Rate k-Value')\n",
        "plt.xlabel('k-Value')\n",
        "plt.ylabel('Mean Error')"
      ],
      "execution_count": null,
      "outputs": [
        {
          "output_type": "execute_result",
          "data": {
            "text/plain": [
              "Text(0, 0.5, 'Mean Error')"
            ]
          },
          "metadata": {
            "tags": []
          },
          "execution_count": 115
        },
        {
          "output_type": "display_data",
          "data": {
            "image/png": "[encoded data removed]",
            "text/plain": [
              "<Figure size 720x648 with 1 Axes>"
            ]
          },
          "metadata": {
            "tags": []
          }
        }
      ]
    },
    {
      "cell_type": "markdown",
      "metadata": {
        "id": "5LrVKtf89mTw"
      },
      "source": [
        "* From the plot we can see that the mean error is \"0\" when the value of the K is between 3 and 17, and between 19 and 21, and between 27&31 etc ..."
      ]
    }
  ]
}